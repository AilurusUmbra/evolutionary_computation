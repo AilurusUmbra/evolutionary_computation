{
 "cells": [
  {
   "cell_type": "code",
   "execution_count": 1,
   "metadata": {},
   "outputs": [],
   "source": [
    "import random"
   ]
  },
  {
   "cell_type": "code",
   "execution_count": 2,
   "metadata": {},
   "outputs": [],
   "source": [
    "def fitness(individual, connection_matrix):\n",
    "    '''\n",
    "    This function return an integer of the fitness value for individual\n",
    "    \n",
    "        individual (1d list): list of nodes in an individual\n",
    "        connection_matrix (2d list): The connection matrix that represents the network (square matrix)\n",
    "    '''\n",
    "    return min(connection_matrix[individual[i]][individual[i+1]] for i in range(len(individual)-1))"
   ]
  },
  {
   "cell_type": "code",
   "execution_count": 3,
   "metadata": {},
   "outputs": [],
   "source": [
    "def population_with_fitness(population, connection_matrix):\n",
    "    '''\n",
    "    This function will return population with each individuals fitness\n",
    "    Format:\n",
    "    [\n",
    "        { 'individual': [], 'fitness': int }, ...\n",
    "    ]\n",
    "    \n",
    "        population (2d list): population for the given network\n",
    "        connection_matrix (2d list): The connection matrix that represents the network (square matrix)\n",
    "    '''\n",
    "    return list({'individual':individual, 'fitness':fitness(individual, connection_matrix)}\n",
    "                for individual in population)\n"
   ]
  },
  {
   "cell_type": "code",
   "execution_count": 4,
   "metadata": {},
   "outputs": [],
   "source": [
    "def crossover(chosen1, chosen2, cut_point1, cut_point2):\n",
    "    '''\n",
    "    This function will return 2 individual after crossover\n",
    "    \n",
    "        chosen1 (int): individual that is chosen as parent 1\n",
    "        chosen2 (int): individual that is chosen as parent 2\n",
    "        cut_point1 (int): location for the cut for individual 1\n",
    "        cut_point2 (int): location for the cut for individual 2\n",
    "        \n",
    "        cut_point will represent the integer of the right of cutting location\n",
    "        ex: 2\n",
    "             |\n",
    "        [0, 1, 2, 3]\n",
    "    '''\n",
    "    result1 = chosen1[:cut_point1] + chosen2[cut_point2:]\n",
    "    result2 = chosen2[:cut_point2] + chosen1[cut_point1:]\n",
    "    \n",
    "    return result1, result2"
   ]
  },
  {
   "cell_type": "code",
   "execution_count": 5,
   "metadata": {},
   "outputs": [],
   "source": [
    "def random_crossover(individual1, individual2, connection_matrix, ratio=0.9):\n",
    "    '''\n",
    "    This function return population after crossover is done\n",
    "    \n",
    "        chosen1 (int): individual that is chosen as parent 1\n",
    "        chosen2 (int): individual that is chosen as parent 2\n",
    "        connection_matrix (2d list): The connection matrix that represents the network (square matrix)\n",
    "        ratio (float): probability of crossover occuring\n",
    "    '''\n",
    "    \n",
    "    #Calculate all possible cut point\n",
    "    max_possible = (len(individual1)-1) * (len(individual2)-1)\n",
    "    \n",
    "    if random.random() < ratio:\n",
    "        #Check if cutting location is valid\n",
    "        for i in range(100):\n",
    "            cut_loc = random.randrange(0, max_possible)\n",
    "            cut_point1 = cut_loc // (len(individual2)-1) + 1\n",
    "            cut_point2 = cut_loc % (len(individual2)-1) + 1\n",
    "            #print(max_possible, cut_loc, cut_point1, cut_point2)\n",
    "\n",
    "            if(connection_matrix[individual1[cut_point1-1]][individual2[cut_point2]] == 0):\n",
    "                continue\n",
    "            if(connection_matrix[individual1[cut_point1]][individual2[cut_point2-1]] == 0):\n",
    "                continue\n",
    "            individual1, individual2 = crossover(individual1, individual2, cut_point1, cut_point2)\n",
    "            break\n",
    "        \n",
    "    return individual1, individual2"
   ]
  },
  {
   "cell_type": "code",
   "execution_count": 6,
   "metadata": {},
   "outputs": [
    {
     "data": {
      "text/plain": [
       "2"
      ]
     },
     "execution_count": 6,
     "metadata": {},
     "output_type": "execute_result"
    }
   ],
   "source": [
    "crossover_matrix = [[ 0,5,7,  3,  0,  0,  0,  0],\n",
    " [ 5,  0,  0,  0,  2, 10,  0,  0],\n",
    " [ 7,  0,  0,  0,  0,  0,  1,  0],\n",
    " [ 3,  0,  0,  0,  0,  0,  0, 11],\n",
    " [ 0,  2,  0,  0,  0,  0,  0,  9],\n",
    " [ 0, 10,  0,  0,  0,  0,  0,  4],\n",
    " [ 0,  0,  1,  0,  0,  0,  0,  6],\n",
    " [ 0,  0,  0, 11,  9,  4,  6,  0]]\n",
    "\n",
    "fitness([0, 1, 4], crossover_matrix)"
   ]
  },
  {
   "cell_type": "code",
   "execution_count": 7,
   "metadata": {},
   "outputs": [
    {
     "name": "stdout",
     "output_type": "stream",
     "text": [
      "[{'individual': [0, 1], 'fitness': 5}, {'individual': [0, 1, 4], 'fitness': 2}]\n"
     ]
    }
   ],
   "source": [
    "print(population_with_fitness([[0,1], [0,1,4]], crossover_matrix))"
   ]
  },
  {
   "cell_type": "code",
   "execution_count": 8,
   "metadata": {},
   "outputs": [
    {
     "data": {
      "text/plain": [
       "([1, 5, 2], [0, 1, 4])"
      ]
     },
     "execution_count": 8,
     "metadata": {},
     "output_type": "execute_result"
    }
   ],
   "source": [
    "crossover([1, 4], [0, 1, 5, 2], 1, 2)"
   ]
  },
  {
   "cell_type": "code",
   "execution_count": 9,
   "metadata": {},
   "outputs": [
    {
     "name": "stdout",
     "output_type": "stream",
     "text": [
      "[[1, 5, 2], [0, 1, 4]]\n",
      "[[1, 5, 2], [0, 1, 4]]\n",
      "[[1, 5, 2], [0, 1, 4]]\n",
      "[[1, 4], [0, 1, 5, 2]]\n",
      "[[1, 5, 2], [0, 1, 4]]\n",
      "[[1, 5, 2], [0, 1, 4]]\n",
      "[[1, 5, 2], [0, 1, 4]]\n",
      "[[1, 5, 2], [0, 1, 4]]\n",
      "[[1, 4], [0, 1, 5, 2]]\n",
      "[[1, 5, 2], [0, 1, 4]]\n"
     ]
    }
   ],
   "source": [
    "for i in range(10):\n",
    "    print(random_crossover([[1, 4], [0, 1, 5, 2]], crossover_matrix))"
   ]
  },
  {
   "cell_type": "code",
   "execution_count": null,
   "metadata": {},
   "outputs": [],
   "source": []
  },
  {
   "cell_type": "code",
   "execution_count": null,
   "metadata": {},
   "outputs": [],
   "source": []
  }
 ],
 "metadata": {
  "kernelspec": {
   "display_name": "Python 3",
   "language": "python",
   "name": "python3"
  },
  "language_info": {
   "codemirror_mode": {
    "name": "ipython",
    "version": 3
   },
   "file_extension": ".py",
   "mimetype": "text/x-python",
   "name": "python",
   "nbconvert_exporter": "python",
   "pygments_lexer": "ipython3",
   "version": "3.7.3"
  }
 },
 "nbformat": 4,
 "nbformat_minor": 2
}
