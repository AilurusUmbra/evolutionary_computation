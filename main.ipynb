{
 "cells": [
  {
   "cell_type": "code",
   "execution_count": 1,
   "metadata": {},
   "outputs": [],
   "source": [
    "import numpy as np\n",
    "import pandas as pd\n",
    "import os\n",
    "import networkx as nx\n",
    "import random\n",
    "import mutation\n",
    "import crossover\n",
    "import generator\n",
    "import fitness\n",
    "from datetime import datetime"
   ]
  },
  {
   "cell_type": "code",
   "execution_count": 2,
   "metadata": {},
   "outputs": [],
   "source": [
    "# user given constants\n",
    "src=0\n",
    "dst=1\n",
    "bandwidth_threshold = 2\n",
    "# parameters\n",
    "generation = 1000\n",
    "max_depth = 5\n",
    "k_shortest = 5\n",
    "random_walk_mult = 5"
   ]
  },
  {
   "cell_type": "code",
   "execution_count": 3,
   "metadata": {},
   "outputs": [],
   "source": [
    "random.seed(datetime.now())"
   ]
  },
  {
   "cell_type": "code",
   "execution_count": 4,
   "metadata": {},
   "outputs": [],
   "source": [
    "#Read file related to testing\n",
    "def get_test_file():\n",
    "    '''Generator that return string of file name'''\n",
    "    import re\n",
    "    for files in os.listdir():\n",
    "        if re.match('test.+\\.csv', files) is not None:\n",
    "            yield files\n",
    "            \n",
    "def csv_to_np(filename):\n",
    "    return pd.read_csv(filename, header=None, delim_whitespace=True).values\n",
    "\n",
    "# Use generator\n",
    "#bandwidth_matrix = generator.generate(\"complete\", (1, 15), n=15).out(type=\"2d_list\")\n",
    "bandwidth_matrix = generator.generate(\"random\", (1, 100), n=1000, p=0.1).out(type=\"2d_list\")\n",
    "\n",
    "#bandwidth_matrix = csv_to_np('test1.csv')\n",
    "#print(type(bandwidth_matrix), '\\n', bandwidth_matrix)"
   ]
  },
  {
   "cell_type": "code",
   "execution_count": 5,
   "metadata": {},
   "outputs": [],
   "source": [
    "def np_to_nx(bandwidth_matrix):\n",
    "    # build neighbor matrix\n",
    "    neighbor_matrix = []\n",
    "    for row, _ in enumerate(bandwidth_matrix):\n",
    "        neighbor_matrix.append(np.where(bandwidth_matrix[row] > 0)[0])\n",
    "    neighbor_matrix = np.array(neighbor_matrix)\n",
    "    \n",
    "    # build the list of edges\n",
    "    edges = np.array(np.where(bandwidth_matrix > 0)).transpose()\n",
    "\n",
    "    # build nx Graph instance\n",
    "    G = nx.Graph()\n",
    "    num_of_nodes = bandwidth_matrix.shape[0]\n",
    "    G.add_nodes_from(range(num_of_nodes))\n",
    "    G.add_edges_from(edges)\n",
    "    return G, neighbor_matrix\n",
    "    \n",
    "G, neighbor_matrix = np_to_nx(bandwidth_matrix)"
   ]
  },
  {
   "cell_type": "code",
   "execution_count": 6,
   "metadata": {},
   "outputs": [
    {
     "name": "stderr",
     "output_type": "stream",
     "text": [
      "/home/phua/anaconda3/envs/evo/lib/python3.7/site-packages/networkx/drawing/nx_pylab.py:579: MatplotlibDeprecationWarning: \n",
      "The iterable function was deprecated in Matplotlib 3.1 and will be removed in 3.3. Use np.iterable instead.\n",
      "  if not cb.iterable(width):\n"
     ]
    },
    {
     "data": {
      "image/png": "[encoded data removed]",
      "text/plain": [
       "<Figure size 432x288 with 1 Axes>"
      ]
     },
     "metadata": {},
     "output_type": "display_data"
    }
   ],
   "source": [
    "def nx_visualize(G):\n",
    "    # Visualize the graph\n",
    "    %matplotlib inline\n",
    "    nx.draw_shell(G, with_labels=True, node_color='orange')\n",
    "\n",
    "nx_visualize(G)"
   ]
  },
  {
   "cell_type": "code",
   "execution_count": 7,
   "metadata": {},
   "outputs": [],
   "source": [
    "def random_walk(src, dest, step, neighbor_matrix):\n",
    "    path=[src]\n",
    "    for i in range(step):\n",
    "        next_node = random.choice(neighbor_matrix[path[-1]])\n",
    "        path.append(next_node)\n",
    "    return crossover.check_cycle(path)"
   ]
  },
  {
   "cell_type": "code",
   "execution_count": 8,
   "metadata": {},
   "outputs": [],
   "source": [
    "def get_path_length(pop):\n",
    "    # count path length of each individual\n",
    "    path_length = []\n",
    "    for ind in pop:\n",
    "        path_length.append(len(ind))\n",
    "    return path_length"
   ]
  },
  {
   "cell_type": "code",
   "execution_count": null,
   "metadata": {},
   "outputs": [],
   "source": [
    "def initial(G, s, d, iddfs_depth, population_size, neighbor_matrix):\n",
    "    #Get the two initial parent\n",
    "    random_path1 = random_walk(s, d, random_walk_mult * G.order(), neighbor_matrix)\n",
    "    print('Random path 1 len: ', len(random_path1))\n",
    "    \n",
    "    random_path2 = random_path1.copy()\n",
    "    random_path2 = mutation.mutation(neighbor_matrix, random_path2, 0.5)\n",
    "    random_path2 = crossover.check_cycle(random_path2)\n",
    "    print('Random path 2 len: ', len(random_path2))\n",
    "        \n",
    "    population = [random_path1, random_path2]\n",
    "    while(True):\n",
    "        for idx in range(len(population)-1):\n",
    "            child1, child2 = crossover.random_crossover(population[idx], population[idx+1], bandwidth_matrix)\n",
    "            population += [crossover.check_cycle(child1), crossover.check_cycle(child2)]\n",
    "            print(child1)\n",
    "            print(crossover.check_cycle(child1))\n",
    "            input()\n",
    "    \n",
    "        children_pop = []\n",
    "        # mutation\n",
    "        for ind in population:\n",
    "            children_pop.append(crossover.check_cycle(mutation.mutation(neighbor_matrix, ind, 0.5)))\n",
    "            \n",
    "        population += children_pop\n",
    "        \n",
    "        if len(population) > population_size:\n",
    "            break\n",
    "    population = random.sample(population, population_size)\n",
    "    return population"
   ]
  },
  {
   "cell_type": "code",
   "execution_count": null,
   "metadata": {},
   "outputs": [
    {
     "name": "stdout",
     "output_type": "stream",
     "text": [
      "99726.174\n"
     ]
    }
   ],
   "source": [
    "# Edge density of graph\n",
    "# This is for calculating parameter (但現在還沒做)\n",
    "edge_density = G.size()*2/G.order()*(G.order()-1)\n",
    "print(edge_density)"
   ]
  },
  {
   "cell_type": "code",
   "execution_count": null,
   "metadata": {},
   "outputs": [
    {
     "name": "stdout",
     "output_type": "stream",
     "text": [
      "Random path 1 len:  39\n",
      "Random path 2 len:  16\n",
      "[0, 196, 467, 834, 309, 94, 102, 648, 653, 860, 659, 453, 149, 971, 566, 329, 245, 165, 39, 358, 827, 131, 937, 721, 347, 111, 943, 981, 359, 113, 323, 689, 781, 361, 1, 8, 521, 359, 739]\n",
      "[0, 196, 467, 834, 309, 94, 102, 648, 653, 860, 659, 453, 149, 971, 566, 329, 245, 165, 39, 358, 827, 131, 937, 721, 347, 111, 943, 981, 359, 739]\n",
      "\n",
      "[0, 196, 467, 834, 309, 94, 287, 773, 345, 773, 659, 453, 447, 971, 860, 505, 245, 508, 39, 334, 180, 131, 371, 334, 850, 26, 527, 359, 739]\n",
      "[0, 196, 467, 834, 309, 94, 287, 773, 659, 453, 447, 971, 860, 505, 245, 508, 39, 334, 850, 26, 527, 359, 739]\n",
      "\n",
      "[0, 68, 199, 736, 475, 572, 590, 648, 717, 860, 261, 850, 26, 527, 359, 337, 619, 648, 111, 943, 981, 746, 739]\n",
      "[0, 68, 199, 736, 475, 572, 590, 648, 111, 943, 981, 746, 739]\n",
      "\n",
      "[0, 196, 585, 834, 327, 810, 590, 474, 979, 312, 390, 174, 26, 362, 832, 739]\n",
      "[0, 196, 585, 834, 327, 810, 590, 474, 979, 312, 390, 174, 26, 362, 832, 739]\n",
      "\n",
      "[0, 196, 467, 834, 309, 94, 287, 773, 659, 453, 447, 971, 962, 739]\n",
      "[0, 196, 467, 834, 309, 94, 287, 773, 659, 453, 447, 971, 962, 739]\n",
      "\n",
      "[0, 196, 475, 572, 590, 648, 717, 860, 261, 850, 26, 527, 359, 739]\n",
      "[0, 196, 475, 572, 590, 648, 717, 860, 261, 850, 26, 527, 359, 739]\n",
      "\n",
      "[0, 68, 199, 736, 475, 572, 590, 648, 717, 860, 261, 850, 26, 527, 359, 739]\n",
      "[0, 68, 199, 736, 475, 572, 590, 648, 717, 860, 261, 850, 26, 527, 359, 739]\n",
      "\n",
      "[0, 196, 220, 424, 735, 543, 102, 789, 121, 210, 659, 453, 275, 971, 8, 216, 894, 915, 39, 390, 174, 26, 362, 832, 739]\n",
      "[0, 196, 220, 424, 735, 543, 102, 789, 121, 210, 659, 453, 275, 971, 8, 216, 894, 915, 39, 390, 174, 26, 362, 832, 739]\n",
      "\n",
      "[0, 196, 123, 775, 309, 94, 299, 386, 622, 773, 659, 453, 447, 970, 860, 505, 421, 627, 506, 327, 658, 131, 371, 472, 895, 111, 678, 391, 359, 113, 323, 7, 50, 134, 629, 873, 971, 684, 739]\n",
      "[0, 196, 123, 775, 309, 94, 299, 386, 622, 773, 659, 453, 447, 970, 860, 505, 421, 627, 506, 327, 658, 131, 371, 472, 895, 111, 678, 391, 359, 113, 323, 7, 50, 134, 629, 873, 971, 684, 739]\n",
      "\n",
      "[0, 691, 847, 476, 475, 814, 420, 484, 609, 783, 261, 593, 194, 527, 668, 52, 162, 739]\n",
      "[0, 691, 847, 476, 475, 814, 420, 484, 609, 783, 261, 593, 194, 527, 668, 52, 162, 739]\n"
     ]
    }
   ],
   "source": [
    "candidate = np.linspace(0.1,0.2, num=2)\n",
    "candidate = [0.1]\n",
    "for ratio in candidate:\n",
    "    population_size = min(200, max(int(ratio * edge_density), k_shortest))\n",
    "    # for example, given src=0, dst=3, max_depth=7, population_size=20\n",
    "    pop = initial(G, src, dst, max_depth, population_size, neighbor_matrix)\n",
    "print('Path length for each initial individual:', get_path_length(pop))"
   ]
  },
  {
   "cell_type": "code",
   "execution_count": null,
   "metadata": {},
   "outputs": [],
   "source": [
    "# main loop\n",
    "fit_v_gen = []\n",
    "for g in range(generation):\n",
    "    #display(pd.DataFrame(fitness.population_with_fitness(pop, bandwidth_matrix)))\n",
    "    \n",
    "    # crossover\n",
    "    temp_pop = []\n",
    "    for idx in range(len(pop)-1):\n",
    "        child1, child2 = crossover.random_crossover(pop[idx], pop[idx+1], bandwidth_matrix)\n",
    "        temp_pop += [crossover.check_cycle(child1), crossover.check_cycle(child2)]\n",
    "    \n",
    "    # mutation\n",
    "    children_pop = []\n",
    "    for ind in temp_pop:\n",
    "        children_pop.append(crossover.check_cycle(mutation.mutation(neighbor_matrix, ind)))\n",
    "\n",
    "    # diversity maintenance\n",
    "    pop = np.unique(pop+temp_pop+children_pop).tolist()\n",
    "    \n",
    "    # fitness evaluation\n",
    "    pop_with_fit = fitness.population_with_fitness(pop, bandwidth_matrix)\n",
    "    \n",
    "    # selection\n",
    "    pop = pd.DataFrame(sorted(pop_with_fit, key=lambda ind: ind['fitness'], reverse=True))\n",
    "    fit_v_gen.append(np.mean(pop['fitness'][:k_shortest]))\n",
    "    #display(pop)\n",
    "    pop = pop['individual'][0:population_size].tolist()\n",
    "\n"
   ]
  },
  {
   "cell_type": "code",
   "execution_count": null,
   "metadata": {},
   "outputs": [],
   "source": [
    "pop_with_fit = fitness.population_with_fitness(pop, bandwidth_matrix)\n",
    "rst = pd.DataFrame(sorted(pop_with_fit, key=lambda ind: ind['fitness'], reverse=True))\n",
    "rst['hop'] = get_path_length(pop)\n",
    "rst.head(k_shortest)"
   ]
  },
  {
   "cell_type": "code",
   "execution_count": null,
   "metadata": {},
   "outputs": [],
   "source": [
    "# Ref: https://pythonhealthcare.org/tag/pareto-front/\n",
    "def identify_pareto(scores):\n",
    "    \n",
    "    # flip num_of_hops to negative so that we can maxmize it\n",
    "    scores[:,1] = -scores[:,1]\n",
    "    \n",
    "    # Count number of items\n",
    "    population_size = scores.shape[0]\n",
    "    # Create a NumPy index for scores on the pareto front (zero indexed)\n",
    "    population_ids = np.arange(population_size)\n",
    "    # Create a starting list of items on the Pareto front\n",
    "    # All items start off as being labelled as on the Parteo front\n",
    "    pareto_front = np.ones(population_size, dtype=bool)\n",
    "    # Loop through each item. This will then be compared with all other items\n",
    "    for i in range(population_size):\n",
    "        # Loop through all other items\n",
    "        for j in range(population_size):\n",
    "            \n",
    "            # Check if our 'i' pint is dominated by out 'j' point\n",
    "            if all(scores[j] >= scores[i]) and any(scores[j] > scores[i]):\n",
    "                # j dominates i. Label 'i' point as not on Pareto front\n",
    "                pareto_front[i] = 0\n",
    "                # Stop further comparisons with 'i' (no more comparisons needed)\n",
    "                break\n",
    "   \n",
    "    # Add the right-most & down-most points\n",
    "    max_bandwidth = max(scores[:, 0])\n",
    "    min_length = max(scores[:, 1])\n",
    "\n",
    "    for i in range(population_size):\n",
    "        if scores[i][0] == max_bandwidth or scores[i][1] == min_length:\n",
    "            pareto_front[i] = 1\n",
    "    \n",
    "    \n",
    "    # flip back the negative sign of num_of_hops\n",
    "    scores[:,1] = -scores[:,1]\n",
    "    \n",
    "    # Return ids of scenarios on pareto front\n",
    "    return population_ids[pareto_front]\n"
   ]
  },
  {
   "cell_type": "code",
   "execution_count": null,
   "metadata": {
    "scrolled": true
   },
   "outputs": [],
   "source": [
    "data = rst.drop(columns='individual').values\n",
    "front_idx = identify_pareto(data)\n",
    "pareto_front= data[front_idx]\n",
    "pareto_front.sort(axis=0)\n",
    "pareto_front"
   ]
  },
  {
   "cell_type": "code",
   "execution_count": null,
   "metadata": {},
   "outputs": [],
   "source": [
    "all(data[0] > data[1]) "
   ]
  },
  {
   "cell_type": "code",
   "execution_count": null,
   "metadata": {},
   "outputs": [],
   "source": []
  },
  {
   "cell_type": "code",
   "execution_count": null,
   "metadata": {},
   "outputs": [],
   "source": [
    "import matplotlib.pyplot as plt\n",
    "plt.scatter(rst['fitness'], rst['hop'])\n",
    "plt.plot(pareto_front[:, 0], pareto_front[:, 1], color='r')\n",
    "plt.xlabel('bottleneck bandwidth')\n",
    "plt.ylabel('hop')\n",
    "plt.show()\n",
    "#plt."
   ]
  },
  {
   "cell_type": "code",
   "execution_count": null,
   "metadata": {},
   "outputs": [],
   "source": [
    "rst"
   ]
  },
  {
   "cell_type": "code",
   "execution_count": null,
   "metadata": {},
   "outputs": [],
   "source": [
    "plt.plot(fit_v_gen)"
   ]
  },
  {
   "cell_type": "code",
   "execution_count": null,
   "metadata": {},
   "outputs": [],
   "source": [
    "max_band = max(bandwidth_matrix.flatten())\n",
    "np.where(bandwidth_matrix==max_band)"
   ]
  },
  {
   "cell_type": "code",
   "execution_count": null,
   "metadata": {},
   "outputs": [],
   "source": [
    "max(bandwidth_matrix.flatten())"
   ]
  },
  {
   "cell_type": "code",
   "execution_count": null,
   "metadata": {},
   "outputs": [],
   "source": [
    "G.order()"
   ]
  },
  {
   "cell_type": "code",
   "execution_count": null,
   "metadata": {},
   "outputs": [],
   "source": []
  }
 ],
 "metadata": {
  "kernelspec": {
   "display_name": "Python 3",
   "language": "python",
   "name": "python3"
  },
  "language_info": {
   "codemirror_mode": {
    "name": "ipython",
    "version": 3
   },
   "file_extension": ".py",
   "mimetype": "text/x-python",
   "name": "python",
   "nbconvert_exporter": "python",
   "pygments_lexer": "ipython3",
   "version": "3.7.3"
  }
 },
 "nbformat": 4,
 "nbformat_minor": 2
}
