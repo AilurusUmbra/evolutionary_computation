{
 "cells": [
  {
   "cell_type": "code",
   "execution_count": 1,
   "metadata": {},
   "outputs": [],
   "source": [
    "import numpy as np\n",
    "import pandas as pd\n",
    "import os"
   ]
  },
  {
   "cell_type": "code",
   "execution_count": 2,
   "metadata": {},
   "outputs": [],
   "source": [
    "#Read file related to testing\n",
    "def get_test_file():\n",
    "    '''Generator that return string of file name'''\n",
    "    import re\n",
    "    for files in os.listdir():\n",
    "        if re.match('test.+\\.csv', files) is not None:\n",
    "            yield files\n",
    "            \n",
    "def csv_to_np(filename):\n",
    "    return pd.read_csv(filename, header=None, delim_whitespace=True).values\n",
    "    "
   ]
  },
  {
   "cell_type": "code",
   "execution_count": 3,
   "metadata": {},
   "outputs": [
    {
     "name": "stdout",
     "output_type": "stream",
     "text": [
      "[[ 0  0  0  0  0  0  0  0  0 13  0  9 13  0  0  0 12  3  3  0]\n",
      " [ 0  0  8 13  9  0  0  0  0  0  3  2  0  0  4 13  9  6  8  2]\n",
      " [ 0  8  0  0  7  9  0  0  0  0  1  0  9 13  0  0 10  1  0  0]\n",
      " [ 0 13  0  0  0 15 13 16 10  0  0  0  1  0  0 12  0  6  0  0]\n",
      " [ 0  9  7  0  0  0  3  0 12  0  0  0  0  0 16  9  0  2  2  0]\n",
      " [ 0  0  9 15  0  0  8 14  0  0  0 15  0  9  2  3  5  0  0  7]\n",
      " [ 0  0  0 13  3  8  0 10 13 11  0  7 14  2  0  0  0 11  0  3]\n",
      " [ 0  0  0 16  0 14 10  0  0  9  0  6  0 12  6  5 15  0  0  0]\n",
      " [ 0  0  0 10 12  0 13  0  0  4  6  0  6  5  0  0 11  0  9  0]\n",
      " [13  0  0  0  0  0 11  9  4  0  0 11  0  0  2  2  0  8  1 13]\n",
      " [ 0  3  1  0  0  0  0  0  6  0  0  0  0  1 10 12  0  0  0  0]\n",
      " [ 9  2  0  0  0 15  7  6  0 11  0  0 11  1  7  0  5  0  0  0]\n",
      " [13  0  9  1  0  0 14  0  6  0  0 11  0  3  0 14  0  0  0  6]\n",
      " [ 0  0 13  0  0  9  2 12  5  1  1  1  3  0  0  0  0  0 12 10]\n",
      " [ 0  4  0  0 16  2  0  6  0  2 10  7  0  0  0  5  1  0  7  0]\n",
      " [ 0 13  0 12  9  3  0  5  0  2 12  0 14  0  5  0  7  0  8  0]\n",
      " [12  9 10  0  0  5  0 15 11  0  0  5  0  0  1  7  0  0  0  0]\n",
      " [ 3  6  1  6  2  0 11  0  0  8  0  0  0  0  0  0  0  0  5  6]\n",
      " [ 3  8  0  0  2  0  0  0  9  1  0  0  0 12  7  8  0  5  0  0]\n",
      " [ 0  2  0  0  0  7  3  0  0 13  0  0  6 10  0  0  0  6  0  0]]\n"
     ]
    }
   ],
   "source": [
    "for filename in get_test_file():\n",
    "    input_test = csv_to_np(filename)\n",
    "    print(input_test)"
   ]
  },
  {
   "cell_type": "code",
   "execution_count": null,
   "metadata": {},
   "outputs": [],
   "source": []
  }
 ],
 "metadata": {
  "kernelspec": {
   "display_name": "Python 3",
   "language": "python",
   "name": "python3"
  },
  "language_info": {
   "codemirror_mode": {
    "name": "ipython",
    "version": 3
   },
   "file_extension": ".py",
   "mimetype": "text/x-python",
   "name": "python",
   "nbconvert_exporter": "python",
   "pygments_lexer": "ipython3",
   "version": "3.7.3"
  }
 },
 "nbformat": 4,
 "nbformat_minor": 2
}
