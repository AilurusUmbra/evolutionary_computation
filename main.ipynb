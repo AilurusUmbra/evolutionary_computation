{
 "cells": [
  {
   "cell_type": "code",
   "execution_count": 1,
   "metadata": {},
   "outputs": [],
   "source": [
    "import numpy as np\n",
    "import pandas as pd\n",
    "import os\n",
    "import networkx as nx\n",
    "import random\n",
    "import mutation\n",
    "import crossover\n",
    "import generator\n",
    "import fitness\n",
    "from datetime import datetime"
   ]
  },
  {
   "cell_type": "code",
   "execution_count": 2,
   "metadata": {},
   "outputs": [],
   "source": [
    "# user given constants\n",
    "src=0\n",
    "dst=1\n",
    "bandwidth_threshold = 2\n",
    "# parameters\n",
    "generation = 1000\n",
    "max_depth = 5\n",
    "k_shortest = 5\n",
    "random_walk_mult = 5"
   ]
  },
  {
   "cell_type": "code",
   "execution_count": 3,
   "metadata": {},
   "outputs": [],
   "source": [
    "random.seed(datetime.now())"
   ]
  },
  {
   "cell_type": "code",
   "execution_count": 4,
   "metadata": {},
   "outputs": [],
   "source": [
    "#Read file related to testing\n",
    "def get_test_file():\n",
    "    '''Generator that return string of file name'''\n",
    "    import re\n",
    "    for files in os.listdir():\n",
    "        if re.match('test.+\\.csv', files) is not None:\n",
    "            yield files\n",
    "            \n",
    "def csv_to_np(filename):\n",
    "    return pd.read_csv(filename, header=None, delim_whitespace=True).values\n",
    "\n",
    "# Use generator\n",
    "#bandwidth_matrix = generator.generate(\"complete\", (1, 15), n=15).out(type=\"2d_list\")\n",
    "bandwidth_matrix = generator.generate(\"random\", (1, 100), n=1000, p=0.1).out(type=\"2d_list\")\n",
    "\n",
    "#bandwidth_matrix = csv_to_np('test1.csv')\n",
    "#print(type(bandwidth_matrix), '\\n', bandwidth_matrix)"
   ]
  },
  {
   "cell_type": "code",
   "execution_count": 5,
   "metadata": {},
   "outputs": [],
   "source": [
    "def np_to_nx(bandwidth_matrix):\n",
    "    # build neighbor matrix\n",
    "    neighbor_matrix = []\n",
    "    for row, _ in enumerate(bandwidth_matrix):\n",
    "        neighbor_matrix.append(np.where(bandwidth_matrix[row] > 0)[0])\n",
    "    neighbor_matrix = np.array(neighbor_matrix)\n",
    "    \n",
    "    # build the list of edges\n",
    "    edges = np.array(np.where(bandwidth_matrix > 0)).transpose()\n",
    "\n",
    "    # build nx Graph instance\n",
    "    G = nx.Graph()\n",
    "    num_of_nodes = bandwidth_matrix.shape[0]\n",
    "    G.add_nodes_from(range(num_of_nodes))\n",
    "    G.add_edges_from(edges)\n",
    "    return G, neighbor_matrix\n",
    "    \n",
    "G, neighbor_matrix = np_to_nx(bandwidth_matrix)"
   ]
  },
  {
   "cell_type": "code",
   "execution_count": 6,
   "metadata": {},
   "outputs": [
    {
     "name": "stderr",
     "output_type": "stream",
     "text": [
      "/home/phua/anaconda3/envs/evo/lib/python3.7/site-packages/networkx/drawing/nx_pylab.py:579: MatplotlibDeprecationWarning: \n",
      "The iterable function was deprecated in Matplotlib 3.1 and will be removed in 3.3. Use np.iterable instead.\n",
      "  if not cb.iterable(width):\n"
     ]
    },
    {
     "data": {
      "image/png": "[encoded data removed]",
      "text/plain": [
       "<Figure size 432x288 with 1 Axes>"
      ]
     },
     "metadata": {},
     "output_type": "display_data"
    }
   ],
   "source": [
    "def nx_visualize(G):\n",
    "    # Visualize the graph\n",
    "    %matplotlib inline\n",
    "    nx.draw_shell(G, with_labels=True, node_color='orange')\n",
    "\n",
    "nx_visualize(G)"
   ]
  },
  {
   "cell_type": "code",
   "execution_count": 7,
   "metadata": {},
   "outputs": [],
   "source": [
    "def random_walk(src, dest, step, neighbor_matrix):\n",
    "    path=[src]\n",
    "    for i in range(step):\n",
    "        next_node = random.choice(neighbor_matrix[path[-1]])\n",
    "        path.append(next_node)\n",
    "    return crossover.check_cycle(path)"
   ]
  },
  {
   "cell_type": "code",
   "execution_count": 8,
   "metadata": {},
   "outputs": [],
   "source": [
    "def get_path_length(pop):\n",
    "    # count path length of each individual\n",
    "    path_length = []\n",
    "    for ind in pop:\n",
    "        path_length.append(len(ind))\n",
    "    return path_length"
   ]
  },
  {
   "cell_type": "code",
   "execution_count": 9,
   "metadata": {},
   "outputs": [],
   "source": [
    "def initial(G, s, d, iddfs_depth, population_size, neighbor_matrix):\n",
    "    #Get the two initial parent\n",
    "    random_path1 = random_walk(s, d, random_walk_mult * G.order(), neighbor_matrix)\n",
    "    print('Random path 1 len: ', len(random_path1))\n",
    "    \n",
    "    random_path2 = random_path1.copy()\n",
    "    random_path2 = mutation.mutation(neighbor_matrix, random_path2, 0.5)\n",
    "    random_path2 = crossover.check_cycle(random_path2)\n",
    "    print('Random path 2 len: ', len(random_path2))\n",
    "        \n",
    "    population = [random_path1, random_path2]\n",
    "    while(True):\n",
    "        #for idx in range(len(population)-1):\n",
    "        #    child1, child2 = crossover.random_crossover(population[idx], population[idx+1], bandwidth_matrix)\n",
    "        #    population += [crossover.check_cycle(child1), crossover.check_cycle(child2)]\n",
    "    \n",
    "        children_pop = []\n",
    "        # mutation\n",
    "        for ind in population:\n",
    "            children_pop.append(crossover.check_cycle(mutation.mutation(neighbor_matrix, ind, 0.5)))\n",
    "            \n",
    "        population += children_pop\n",
    "        \n",
    "        if len(population) > population_size:\n",
    "            break\n",
    "    population = random.sample(population, population_size)\n",
    "    return population"
   ]
  },
  {
   "cell_type": "code",
   "execution_count": 10,
   "metadata": {},
   "outputs": [
    {
     "name": "stdout",
     "output_type": "stream",
     "text": [
      "99955.944\n"
     ]
    }
   ],
   "source": [
    "# Edge density of graph\n",
    "# This is for calculating parameter (但現在還沒做)\n",
    "edge_density = G.size()*2/G.order()*(G.order()-1)\n",
    "print(edge_density)"
   ]
  },
  {
   "cell_type": "code",
   "execution_count": 11,
   "metadata": {},
   "outputs": [
    {
     "name": "stdout",
     "output_type": "stream",
     "text": [
      "Random path 1 len:  13\n",
      "Random path 2 len:  13\n",
      "Path length for each initial individual: [13, 7, 11, 11, 11, 10, 11, 9, 13, 11, 13, 9, 13, 13, 13, 9, 13, 13, 9, 9, 13, 13, 13, 13, 13, 11, 13, 9, 11, 13, 7, 13, 13, 13, 11, 13, 13, 7, 13, 9, 10, 13, 13, 11, 10, 13, 13, 11, 9, 9, 13, 13, 11, 13, 13, 11, 13, 13, 13, 9, 13, 13, 13, 13, 13, 11, 13, 13, 9, 7, 13, 13, 13, 9, 9, 11, 13, 13, 13, 11, 10, 11, 13, 11, 13, 13, 11, 11, 13, 9, 13, 11, 13, 13, 13, 13, 13, 10, 13, 11, 13, 13, 11, 7, 9, 8, 10, 7, 13, 11, 11, 9, 13, 13, 10, 11, 11, 11, 9, 13, 9, 13, 13, 9, 11, 11, 13, 13, 9, 13, 13, 9, 13, 10, 11, 13, 13, 13, 13, 10, 11, 13, 13, 13, 11, 13, 13, 13, 13, 11, 11, 10, 13, 13, 11, 10, 11, 13, 10, 10, 13, 13, 7, 13, 13, 13, 11, 11, 13, 13, 11, 8, 11, 10, 13, 8, 13, 11, 10, 7, 11, 13, 11, 13, 11, 7, 13, 13, 11, 11, 13, 13, 10, 13, 9, 13, 8, 13, 9, 9]\n"
     ]
    }
   ],
   "source": [
    "candidate = np.linspace(0.1,0.2, num=2)\n",
    "candidate = [0.1]\n",
    "for ratio in candidate:\n",
    "    population_size = min(200, max(int(ratio * edge_density), k_shortest))\n",
    "    # for example, given src=0, dst=3, max_depth=7, population_size=20\n",
    "    pop = initial(G, src, dst, max_depth, population_size, neighbor_matrix)\n",
    "print('Path length for each initial individual:', get_path_length(pop))"
   ]
  },
  {
   "cell_type": "code",
   "execution_count": 12,
   "metadata": {},
   "outputs": [],
   "source": [
    "# main loop\n",
    "fit_v_gen = []\n",
    "for g in range(generation):\n",
    "    #display(pd.DataFrame(fitness.population_with_fitness(pop, bandwidth_matrix)))\n",
    "    \n",
    "    # crossover\n",
    "    temp_pop = []\n",
    "    for idx in range(len(pop)-1):\n",
    "        child1, child2 = crossover.random_crossover(pop[idx], pop[idx+1], bandwidth_matrix)\n",
    "        temp_pop += [crossover.check_cycle(child1), crossover.check_cycle(child2)]\n",
    "    \n",
    "    # mutation\n",
    "    children_pop = []\n",
    "    for ind in pop:\n",
    "        children_pop.append(crossover.check_cycle(mutation.mutation(neighbor_matrix, ind)))\n",
    "\n",
    "    # diversity maintenance\n",
    "    pop = np.unique(pop+temp_pop+children_pop).tolist()\n",
    "    \n",
    "    # fitness evaluation\n",
    "    pop_with_fit = fitness.population_with_fitness(pop, bandwidth_matrix)\n",
    "    \n",
    "    # selection\n",
    "    pop = pd.DataFrame(sorted(pop_with_fit, key=lambda ind: ind['fitness'], reverse=True))\n",
    "    fit_v_gen.append(np.mean(pop['fitness'][:k_shortest]))\n",
    "    #display(pop)\n",
    "    pop = pop['individual'][0:population_size].tolist()\n",
    "\n"
   ]
  },
  {
   "cell_type": "code",
   "execution_count": 13,
   "metadata": {},
   "outputs": [
    {
     "data": {
      "text/html": [
       "<div>\n",
       "<style scoped>\n",
       "    .dataframe tbody tr th:only-of-type {\n",
       "        vertical-align: middle;\n",
       "    }\n",
       "\n",
       "    .dataframe tbody tr th {\n",
       "        vertical-align: top;\n",
       "    }\n",
       "\n",
       "    .dataframe thead th {\n",
       "        text-align: right;\n",
       "    }\n",
       "</style>\n",
       "<table border=\"1\" class=\"dataframe\">\n",
       "  <thead>\n",
       "    <tr style=\"text-align: right;\">\n",
       "      <th></th>\n",
       "      <th>fitness</th>\n",
       "      <th>individual</th>\n",
       "      <th>hop</th>\n",
       "    </tr>\n",
       "  </thead>\n",
       "  <tbody>\n",
       "    <tr>\n",
       "      <th>0</th>\n",
       "      <td>61952</td>\n",
       "      <td>[0, 630, 615, 849, 349]</td>\n",
       "      <td>5</td>\n",
       "    </tr>\n",
       "    <tr>\n",
       "      <th>1</th>\n",
       "      <td>52642</td>\n",
       "      <td>[0, 804, 92, 444, 349]</td>\n",
       "      <td>5</td>\n",
       "    </tr>\n",
       "    <tr>\n",
       "      <th>2</th>\n",
       "      <td>44250</td>\n",
       "      <td>[0, 702, 747, 15, 349]</td>\n",
       "      <td>5</td>\n",
       "    </tr>\n",
       "    <tr>\n",
       "      <th>3</th>\n",
       "      <td>43982</td>\n",
       "      <td>[0, 761, 355, 349]</td>\n",
       "      <td>4</td>\n",
       "    </tr>\n",
       "    <tr>\n",
       "      <th>4</th>\n",
       "      <td>29416</td>\n",
       "      <td>[0, 991, 206, 823, 349]</td>\n",
       "      <td>5</td>\n",
       "    </tr>\n",
       "  </tbody>\n",
       "</table>\n",
       "</div>"
      ],
      "text/plain": [
       "   fitness               individual  hop\n",
       "0    61952  [0, 630, 615, 849, 349]    5\n",
       "1    52642   [0, 804, 92, 444, 349]    5\n",
       "2    44250   [0, 702, 747, 15, 349]    5\n",
       "3    43982       [0, 761, 355, 349]    4\n",
       "4    29416  [0, 991, 206, 823, 349]    5"
      ]
     },
     "execution_count": 13,
     "metadata": {},
     "output_type": "execute_result"
    }
   ],
   "source": [
    "pop_with_fit = fitness.population_with_fitness(pop, bandwidth_matrix)\n",
    "rst = pd.DataFrame(sorted(pop_with_fit, key=lambda ind: ind['fitness'], reverse=True))\n",
    "rst['hop'] = get_path_length(pop)\n",
    "rst.head(k_shortest)"
   ]
  },
  {
   "cell_type": "code",
   "execution_count": 14,
   "metadata": {},
   "outputs": [],
   "source": [
    "# Ref: https://pythonhealthcare.org/tag/pareto-front/\n",
    "def identify_pareto(scores):\n",
    "    \n",
    "    # flip num_of_hops to negative so that we can maxmize it\n",
    "    scores[:,1] = -scores[:,1]\n",
    "    \n",
    "    # Count number of items\n",
    "    population_size = scores.shape[0]\n",
    "    # Create a NumPy index for scores on the pareto front (zero indexed)\n",
    "    population_ids = np.arange(population_size)\n",
    "    # Create a starting list of items on the Pareto front\n",
    "    # All items start off as being labelled as on the Parteo front\n",
    "    pareto_front = np.ones(population_size, dtype=bool)\n",
    "    # Loop through each item. This will then be compared with all other items\n",
    "    for i in range(population_size):\n",
    "        # Loop through all other items\n",
    "        for j in range(population_size):\n",
    "            \n",
    "            # Check if our 'i' pint is dominated by out 'j' point\n",
    "            if all(scores[j] >= scores[i]) and any(scores[j] > scores[i]):\n",
    "                # j dominates i. Label 'i' point as not on Pareto front\n",
    "                pareto_front[i] = 0\n",
    "                # Stop further comparisons with 'i' (no more comparisons needed)\n",
    "                break\n",
    "   \n",
    "    # Add the right-most & down-most points\n",
    "    max_bandwidth = max(scores[:, 0])\n",
    "    min_length = max(scores[:, 1])\n",
    "\n",
    "    for i in range(population_size):\n",
    "        if scores[i][0] == max_bandwidth or scores[i][1] == min_length:\n",
    "            pareto_front[i] = 1\n",
    "    \n",
    "    \n",
    "    # flip back the negative sign of num_of_hops\n",
    "    scores[:,1] = -scores[:,1]\n",
    "    \n",
    "    # Return ids of scenarios on pareto front\n",
    "    return population_ids[pareto_front]\n"
   ]
  },
  {
   "cell_type": "code",
   "execution_count": 15,
   "metadata": {
    "scrolled": true
   },
   "outputs": [
    {
     "data": {
      "text/plain": [
       "array([[ 2774,     3],\n",
       "       [43982,     4],\n",
       "       [61952,     5]])"
      ]
     },
     "execution_count": 15,
     "metadata": {},
     "output_type": "execute_result"
    }
   ],
   "source": [
    "data = rst.drop(columns='individual').values\n",
    "front_idx = identify_pareto(data)\n",
    "pareto_front= data[front_idx]\n",
    "pareto_front.sort(axis=0)\n",
    "pareto_front"
   ]
  },
  {
   "cell_type": "code",
   "execution_count": 16,
   "metadata": {},
   "outputs": [
    {
     "data": {
      "text/plain": [
       "False"
      ]
     },
     "execution_count": 16,
     "metadata": {},
     "output_type": "execute_result"
    }
   ],
   "source": [
    "all(data[0] > data[1]) "
   ]
  },
  {
   "cell_type": "code",
   "execution_count": null,
   "metadata": {},
   "outputs": [],
   "source": []
  },
  {
   "cell_type": "code",
   "execution_count": 17,
   "metadata": {},
   "outputs": [
    {
     "data": {
      "image/png": "[encoded data removed]",
      "text/plain": [
       "<Figure size 432x288 with 1 Axes>"
      ]
     },
     "metadata": {
      "needs_background": "light"
     },
     "output_type": "display_data"
    }
   ],
   "source": [
    "import matplotlib.pyplot as plt\n",
    "plt.scatter(rst['fitness'], rst['hop'])\n",
    "plt.plot(pareto_front[:, 0], pareto_front[:, 1], color='r')\n",
    "plt.xlabel('bottleneck bandwidth')\n",
    "plt.ylabel('hop')\n",
    "plt.show()\n",
    "#plt."
   ]
  },
  {
   "cell_type": "code",
   "execution_count": 18,
   "metadata": {},
   "outputs": [
    {
     "data": {
      "text/html": [
       "<div>\n",
       "<style scoped>\n",
       "    .dataframe tbody tr th:only-of-type {\n",
       "        vertical-align: middle;\n",
       "    }\n",
       "\n",
       "    .dataframe tbody tr th {\n",
       "        vertical-align: top;\n",
       "    }\n",
       "\n",
       "    .dataframe thead th {\n",
       "        text-align: right;\n",
       "    }\n",
       "</style>\n",
       "<table border=\"1\" class=\"dataframe\">\n",
       "  <thead>\n",
       "    <tr style=\"text-align: right;\">\n",
       "      <th></th>\n",
       "      <th>fitness</th>\n",
       "      <th>individual</th>\n",
       "      <th>hop</th>\n",
       "    </tr>\n",
       "  </thead>\n",
       "  <tbody>\n",
       "    <tr>\n",
       "      <th>0</th>\n",
       "      <td>61952</td>\n",
       "      <td>[0, 630, 615, 849, 349]</td>\n",
       "      <td>5</td>\n",
       "    </tr>\n",
       "    <tr>\n",
       "      <th>1</th>\n",
       "      <td>52642</td>\n",
       "      <td>[0, 804, 92, 444, 349]</td>\n",
       "      <td>5</td>\n",
       "    </tr>\n",
       "    <tr>\n",
       "      <th>2</th>\n",
       "      <td>44250</td>\n",
       "      <td>[0, 702, 747, 15, 349]</td>\n",
       "      <td>5</td>\n",
       "    </tr>\n",
       "    <tr>\n",
       "      <th>3</th>\n",
       "      <td>43982</td>\n",
       "      <td>[0, 761, 355, 349]</td>\n",
       "      <td>4</td>\n",
       "    </tr>\n",
       "    <tr>\n",
       "      <th>4</th>\n",
       "      <td>29416</td>\n",
       "      <td>[0, 991, 206, 823, 349]</td>\n",
       "      <td>5</td>\n",
       "    </tr>\n",
       "    <tr>\n",
       "      <th>5</th>\n",
       "      <td>29416</td>\n",
       "      <td>[0, 991, 970, 499, 984, 349]</td>\n",
       "      <td>6</td>\n",
       "    </tr>\n",
       "    <tr>\n",
       "      <th>6</th>\n",
       "      <td>24816</td>\n",
       "      <td>[0, 111, 652, 15, 349]</td>\n",
       "      <td>5</td>\n",
       "    </tr>\n",
       "    <tr>\n",
       "      <th>7</th>\n",
       "      <td>24250</td>\n",
       "      <td>[0, 663, 199, 433, 349]</td>\n",
       "      <td>5</td>\n",
       "    </tr>\n",
       "    <tr>\n",
       "      <th>8</th>\n",
       "      <td>23985</td>\n",
       "      <td>[0, 360, 281, 984, 349]</td>\n",
       "      <td>5</td>\n",
       "    </tr>\n",
       "    <tr>\n",
       "      <th>9</th>\n",
       "      <td>23115</td>\n",
       "      <td>[0, 837, 120, 355, 349]</td>\n",
       "      <td>5</td>\n",
       "    </tr>\n",
       "    <tr>\n",
       "      <th>10</th>\n",
       "      <td>23115</td>\n",
       "      <td>[0, 837, 823, 131, 349]</td>\n",
       "      <td>5</td>\n",
       "    </tr>\n",
       "    <tr>\n",
       "      <th>11</th>\n",
       "      <td>23115</td>\n",
       "      <td>[0, 837, 823, 154, 736, 349]</td>\n",
       "      <td>6</td>\n",
       "    </tr>\n",
       "    <tr>\n",
       "      <th>12</th>\n",
       "      <td>23115</td>\n",
       "      <td>[0, 837, 823, 349]</td>\n",
       "      <td>4</td>\n",
       "    </tr>\n",
       "    <tr>\n",
       "      <th>13</th>\n",
       "      <td>22364</td>\n",
       "      <td>[0, 920, 109, 823, 349]</td>\n",
       "      <td>5</td>\n",
       "    </tr>\n",
       "    <tr>\n",
       "      <th>14</th>\n",
       "      <td>22364</td>\n",
       "      <td>[0, 920, 109, 823, 444, 349]</td>\n",
       "      <td>6</td>\n",
       "    </tr>\n",
       "    <tr>\n",
       "      <th>15</th>\n",
       "      <td>22364</td>\n",
       "      <td>[0, 920, 763, 823, 444, 349]</td>\n",
       "      <td>6</td>\n",
       "    </tr>\n",
       "    <tr>\n",
       "      <th>16</th>\n",
       "      <td>22364</td>\n",
       "      <td>[0, 920, 763, 823, 837, 120, 484, 349]</td>\n",
       "      <td>8</td>\n",
       "    </tr>\n",
       "    <tr>\n",
       "      <th>17</th>\n",
       "      <td>21267</td>\n",
       "      <td>[0, 223, 281, 984, 349]</td>\n",
       "      <td>5</td>\n",
       "    </tr>\n",
       "    <tr>\n",
       "      <th>18</th>\n",
       "      <td>21251</td>\n",
       "      <td>[0, 991, 227, 711, 349]</td>\n",
       "      <td>5</td>\n",
       "    </tr>\n",
       "    <tr>\n",
       "      <th>19</th>\n",
       "      <td>20107</td>\n",
       "      <td>[0, 111, 28, 433, 349]</td>\n",
       "      <td>5</td>\n",
       "    </tr>\n",
       "    <tr>\n",
       "      <th>20</th>\n",
       "      <td>18982</td>\n",
       "      <td>[0, 702, 956, 164, 444, 349]</td>\n",
       "      <td>6</td>\n",
       "    </tr>\n",
       "    <tr>\n",
       "      <th>21</th>\n",
       "      <td>18982</td>\n",
       "      <td>[0, 702, 956, 164, 444, 823, 349]</td>\n",
       "      <td>7</td>\n",
       "    </tr>\n",
       "    <tr>\n",
       "      <th>22</th>\n",
       "      <td>18310</td>\n",
       "      <td>[0, 702, 592, 15, 349]</td>\n",
       "      <td>5</td>\n",
       "    </tr>\n",
       "    <tr>\n",
       "      <th>23</th>\n",
       "      <td>18079</td>\n",
       "      <td>[0, 295, 621, 131, 349]</td>\n",
       "      <td>5</td>\n",
       "    </tr>\n",
       "    <tr>\n",
       "      <th>24</th>\n",
       "      <td>18079</td>\n",
       "      <td>[0, 295, 621, 131, 823, 349]</td>\n",
       "      <td>6</td>\n",
       "    </tr>\n",
       "    <tr>\n",
       "      <th>25</th>\n",
       "      <td>17936</td>\n",
       "      <td>[0, 630, 970, 499, 984, 349]</td>\n",
       "      <td>6</td>\n",
       "    </tr>\n",
       "    <tr>\n",
       "      <th>26</th>\n",
       "      <td>17868</td>\n",
       "      <td>[0, 360, 525, 736, 349]</td>\n",
       "      <td>5</td>\n",
       "    </tr>\n",
       "    <tr>\n",
       "      <th>27</th>\n",
       "      <td>17795</td>\n",
       "      <td>[0, 871, 592, 15, 349]</td>\n",
       "      <td>5</td>\n",
       "    </tr>\n",
       "    <tr>\n",
       "      <th>28</th>\n",
       "      <td>17031</td>\n",
       "      <td>[0, 360, 84, 282, 349]</td>\n",
       "      <td>5</td>\n",
       "    </tr>\n",
       "    <tr>\n",
       "      <th>29</th>\n",
       "      <td>16972</td>\n",
       "      <td>[0, 111, 870, 823, 349]</td>\n",
       "      <td>5</td>\n",
       "    </tr>\n",
       "    <tr>\n",
       "      <th>...</th>\n",
       "      <td>...</td>\n",
       "      <td>...</td>\n",
       "      <td>...</td>\n",
       "    </tr>\n",
       "    <tr>\n",
       "      <th>170</th>\n",
       "      <td>6604</td>\n",
       "      <td>[0, 837, 744, 52, 349]</td>\n",
       "      <td>5</td>\n",
       "    </tr>\n",
       "    <tr>\n",
       "      <th>171</th>\n",
       "      <td>6584</td>\n",
       "      <td>[0, 680, 255, 131, 349]</td>\n",
       "      <td>5</td>\n",
       "    </tr>\n",
       "    <tr>\n",
       "      <th>172</th>\n",
       "      <td>6543</td>\n",
       "      <td>[0, 761, 723, 967, 349]</td>\n",
       "      <td>5</td>\n",
       "    </tr>\n",
       "    <tr>\n",
       "      <th>173</th>\n",
       "      <td>6536</td>\n",
       "      <td>[0, 845, 235, 823, 349]</td>\n",
       "      <td>5</td>\n",
       "    </tr>\n",
       "    <tr>\n",
       "      <th>174</th>\n",
       "      <td>6360</td>\n",
       "      <td>[0, 660, 9, 447, 349]</td>\n",
       "      <td>5</td>\n",
       "    </tr>\n",
       "    <tr>\n",
       "      <th>175</th>\n",
       "      <td>6358</td>\n",
       "      <td>[0, 414, 732, 256, 349]</td>\n",
       "      <td>5</td>\n",
       "    </tr>\n",
       "    <tr>\n",
       "      <th>176</th>\n",
       "      <td>6305</td>\n",
       "      <td>[0, 630, 615, 444, 349]</td>\n",
       "      <td>5</td>\n",
       "    </tr>\n",
       "    <tr>\n",
       "      <th>177</th>\n",
       "      <td>6300</td>\n",
       "      <td>[0, 166, 283, 15, 349]</td>\n",
       "      <td>5</td>\n",
       "    </tr>\n",
       "    <tr>\n",
       "      <th>178</th>\n",
       "      <td>6300</td>\n",
       "      <td>[0, 166, 291, 736, 349]</td>\n",
       "      <td>5</td>\n",
       "    </tr>\n",
       "    <tr>\n",
       "      <th>179</th>\n",
       "      <td>6300</td>\n",
       "      <td>[0, 166, 421, 374, 349]</td>\n",
       "      <td>5</td>\n",
       "    </tr>\n",
       "    <tr>\n",
       "      <th>180</th>\n",
       "      <td>6300</td>\n",
       "      <td>[0, 166, 421, 447, 349]</td>\n",
       "      <td>5</td>\n",
       "    </tr>\n",
       "    <tr>\n",
       "      <th>181</th>\n",
       "      <td>6300</td>\n",
       "      <td>[0, 166, 437, 188, 349]</td>\n",
       "      <td>5</td>\n",
       "    </tr>\n",
       "    <tr>\n",
       "      <th>182</th>\n",
       "      <td>6300</td>\n",
       "      <td>[0, 166, 476, 386, 349]</td>\n",
       "      <td>5</td>\n",
       "    </tr>\n",
       "    <tr>\n",
       "      <th>183</th>\n",
       "      <td>6300</td>\n",
       "      <td>[0, 166, 476, 984, 349]</td>\n",
       "      <td>5</td>\n",
       "    </tr>\n",
       "    <tr>\n",
       "      <th>184</th>\n",
       "      <td>6300</td>\n",
       "      <td>[0, 166, 525, 967, 349]</td>\n",
       "      <td>5</td>\n",
       "    </tr>\n",
       "    <tr>\n",
       "      <th>185</th>\n",
       "      <td>6300</td>\n",
       "      <td>[0, 166, 673, 433, 349]</td>\n",
       "      <td>5</td>\n",
       "    </tr>\n",
       "    <tr>\n",
       "      <th>186</th>\n",
       "      <td>6300</td>\n",
       "      <td>[0, 166, 673, 736, 349]</td>\n",
       "      <td>5</td>\n",
       "    </tr>\n",
       "    <tr>\n",
       "      <th>187</th>\n",
       "      <td>6300</td>\n",
       "      <td>[0, 166, 997, 52, 349]</td>\n",
       "      <td>5</td>\n",
       "    </tr>\n",
       "    <tr>\n",
       "      <th>188</th>\n",
       "      <td>6293</td>\n",
       "      <td>[0, 492, 603, 131, 349]</td>\n",
       "      <td>5</td>\n",
       "    </tr>\n",
       "    <tr>\n",
       "      <th>189</th>\n",
       "      <td>6274</td>\n",
       "      <td>[0, 295, 648, 849, 349]</td>\n",
       "      <td>5</td>\n",
       "    </tr>\n",
       "    <tr>\n",
       "      <th>190</th>\n",
       "      <td>6245</td>\n",
       "      <td>[0, 630, 823, 349]</td>\n",
       "      <td>4</td>\n",
       "    </tr>\n",
       "    <tr>\n",
       "      <th>191</th>\n",
       "      <td>6245</td>\n",
       "      <td>[0, 630, 823, 444, 349]</td>\n",
       "      <td>5</td>\n",
       "    </tr>\n",
       "    <tr>\n",
       "      <th>192</th>\n",
       "      <td>6245</td>\n",
       "      <td>[0, 845, 630, 823, 444, 349]</td>\n",
       "      <td>6</td>\n",
       "    </tr>\n",
       "    <tr>\n",
       "      <th>193</th>\n",
       "      <td>6245</td>\n",
       "      <td>[0, 845, 630, 823, 837, 12, 603, 492, 476, 984...</td>\n",
       "      <td>11</td>\n",
       "    </tr>\n",
       "    <tr>\n",
       "      <th>194</th>\n",
       "      <td>4460</td>\n",
       "      <td>[0, 111, 953, 398, 823, 349]</td>\n",
       "      <td>6</td>\n",
       "    </tr>\n",
       "    <tr>\n",
       "      <th>195</th>\n",
       "      <td>2824</td>\n",
       "      <td>[0, 441, 205, 601, 349]</td>\n",
       "      <td>5</td>\n",
       "    </tr>\n",
       "    <tr>\n",
       "      <th>196</th>\n",
       "      <td>2774</td>\n",
       "      <td>[0, 131, 349]</td>\n",
       "      <td>3</td>\n",
       "    </tr>\n",
       "    <tr>\n",
       "      <th>197</th>\n",
       "      <td>2774</td>\n",
       "      <td>[0, 131, 823, 349]</td>\n",
       "      <td>4</td>\n",
       "    </tr>\n",
       "    <tr>\n",
       "      <th>198</th>\n",
       "      <td>2713</td>\n",
       "      <td>[0, 135, 573, 444, 823, 349]</td>\n",
       "      <td>6</td>\n",
       "    </tr>\n",
       "    <tr>\n",
       "      <th>199</th>\n",
       "      <td>2360</td>\n",
       "      <td>[0, 500, 444, 521, 349]</td>\n",
       "      <td>5</td>\n",
       "    </tr>\n",
       "  </tbody>\n",
       "</table>\n",
       "<p>200 rows × 3 columns</p>\n",
       "</div>"
      ],
      "text/plain": [
       "     fitness                                         individual  hop\n",
       "0      61952                            [0, 630, 615, 849, 349]    5\n",
       "1      52642                             [0, 804, 92, 444, 349]    5\n",
       "2      44250                             [0, 702, 747, 15, 349]    5\n",
       "3      43982                                 [0, 761, 355, 349]    4\n",
       "4      29416                            [0, 991, 206, 823, 349]    5\n",
       "5      29416                       [0, 991, 970, 499, 984, 349]    6\n",
       "6      24816                             [0, 111, 652, 15, 349]    5\n",
       "7      24250                            [0, 663, 199, 433, 349]    5\n",
       "8      23985                            [0, 360, 281, 984, 349]    5\n",
       "9      23115                            [0, 837, 120, 355, 349]    5\n",
       "10     23115                            [0, 837, 823, 131, 349]    5\n",
       "11     23115                       [0, 837, 823, 154, 736, 349]    6\n",
       "12     23115                                 [0, 837, 823, 349]    4\n",
       "13     22364                            [0, 920, 109, 823, 349]    5\n",
       "14     22364                       [0, 920, 109, 823, 444, 349]    6\n",
       "15     22364                       [0, 920, 763, 823, 444, 349]    6\n",
       "16     22364             [0, 920, 763, 823, 837, 120, 484, 349]    8\n",
       "17     21267                            [0, 223, 281, 984, 349]    5\n",
       "18     21251                            [0, 991, 227, 711, 349]    5\n",
       "19     20107                             [0, 111, 28, 433, 349]    5\n",
       "20     18982                       [0, 702, 956, 164, 444, 349]    6\n",
       "21     18982                  [0, 702, 956, 164, 444, 823, 349]    7\n",
       "22     18310                             [0, 702, 592, 15, 349]    5\n",
       "23     18079                            [0, 295, 621, 131, 349]    5\n",
       "24     18079                       [0, 295, 621, 131, 823, 349]    6\n",
       "25     17936                       [0, 630, 970, 499, 984, 349]    6\n",
       "26     17868                            [0, 360, 525, 736, 349]    5\n",
       "27     17795                             [0, 871, 592, 15, 349]    5\n",
       "28     17031                             [0, 360, 84, 282, 349]    5\n",
       "29     16972                            [0, 111, 870, 823, 349]    5\n",
       "..       ...                                                ...  ...\n",
       "170     6604                             [0, 837, 744, 52, 349]    5\n",
       "171     6584                            [0, 680, 255, 131, 349]    5\n",
       "172     6543                            [0, 761, 723, 967, 349]    5\n",
       "173     6536                            [0, 845, 235, 823, 349]    5\n",
       "174     6360                              [0, 660, 9, 447, 349]    5\n",
       "175     6358                            [0, 414, 732, 256, 349]    5\n",
       "176     6305                            [0, 630, 615, 444, 349]    5\n",
       "177     6300                             [0, 166, 283, 15, 349]    5\n",
       "178     6300                            [0, 166, 291, 736, 349]    5\n",
       "179     6300                            [0, 166, 421, 374, 349]    5\n",
       "180     6300                            [0, 166, 421, 447, 349]    5\n",
       "181     6300                            [0, 166, 437, 188, 349]    5\n",
       "182     6300                            [0, 166, 476, 386, 349]    5\n",
       "183     6300                            [0, 166, 476, 984, 349]    5\n",
       "184     6300                            [0, 166, 525, 967, 349]    5\n",
       "185     6300                            [0, 166, 673, 433, 349]    5\n",
       "186     6300                            [0, 166, 673, 736, 349]    5\n",
       "187     6300                             [0, 166, 997, 52, 349]    5\n",
       "188     6293                            [0, 492, 603, 131, 349]    5\n",
       "189     6274                            [0, 295, 648, 849, 349]    5\n",
       "190     6245                                 [0, 630, 823, 349]    4\n",
       "191     6245                            [0, 630, 823, 444, 349]    5\n",
       "192     6245                       [0, 845, 630, 823, 444, 349]    6\n",
       "193     6245  [0, 845, 630, 823, 837, 12, 603, 492, 476, 984...   11\n",
       "194     4460                       [0, 111, 953, 398, 823, 349]    6\n",
       "195     2824                            [0, 441, 205, 601, 349]    5\n",
       "196     2774                                      [0, 131, 349]    3\n",
       "197     2774                                 [0, 131, 823, 349]    4\n",
       "198     2713                       [0, 135, 573, 444, 823, 349]    6\n",
       "199     2360                            [0, 500, 444, 521, 349]    5\n",
       "\n",
       "[200 rows x 3 columns]"
      ]
     },
     "execution_count": 18,
     "metadata": {},
     "output_type": "execute_result"
    }
   ],
   "source": [
    "rst"
   ]
  },
  {
   "cell_type": "code",
   "execution_count": 19,
   "metadata": {},
   "outputs": [
    {
     "data": {
      "text/plain": [
       "[<matplotlib.lines.Line2D at 0x7f5c7916cd30>]"
      ]
     },
     "execution_count": 19,
     "metadata": {},
     "output_type": "execute_result"
    },
    {
     "data": {
      "image/png": "[encoded data removed]",
      "text/plain": [
       "<Figure size 432x288 with 1 Axes>"
      ]
     },
     "metadata": {
      "needs_background": "light"
     },
     "output_type": "display_data"
    }
   ],
   "source": [
    "plt.plot(fit_v_gen)"
   ]
  },
  {
   "cell_type": "code",
   "execution_count": 20,
   "metadata": {},
   "outputs": [
    {
     "data": {
      "text/plain": [
       "(array([709, 954]), array([954, 709]))"
      ]
     },
     "execution_count": 20,
     "metadata": {},
     "output_type": "execute_result"
    }
   ],
   "source": [
    "max_band = max(bandwidth_matrix.flatten())\n",
    "np.where(bandwidth_matrix==max_band)"
   ]
  },
  {
   "cell_type": "code",
   "execution_count": 21,
   "metadata": {},
   "outputs": [
    {
     "data": {
      "text/plain": [
       "96901231313577"
      ]
     },
     "execution_count": 21,
     "metadata": {},
     "output_type": "execute_result"
    }
   ],
   "source": [
    "max(bandwidth_matrix.flatten())"
   ]
  },
  {
   "cell_type": "code",
   "execution_count": 22,
   "metadata": {},
   "outputs": [
    {
     "data": {
      "text/plain": [
       "1000"
      ]
     },
     "execution_count": 22,
     "metadata": {},
     "output_type": "execute_result"
    }
   ],
   "source": [
    "G.order()"
   ]
  },
  {
   "cell_type": "code",
   "execution_count": null,
   "metadata": {},
   "outputs": [],
   "source": [
    "\n"
   ]
  }
 ],
 "metadata": {
  "kernelspec": {
   "display_name": "Python 3",
   "language": "python",
   "name": "python3"
  },
  "language_info": {
   "codemirror_mode": {
    "name": "ipython",
    "version": 3
   },
   "file_extension": ".py",
   "mimetype": "text/x-python",
   "name": "python",
   "nbconvert_exporter": "python",
   "pygments_lexer": "ipython3",
   "version": "3.7.3"
  }
 },
 "nbformat": 4,
 "nbformat_minor": 2
}
