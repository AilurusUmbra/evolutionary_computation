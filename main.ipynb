{
 "cells": [
  {
   "cell_type": "code",
   "execution_count": 1,
   "metadata": {},
   "outputs": [],
   "source": [
    "import numpy as np\n",
    "import pandas as pd\n",
    "import os\n",
    "import networkx as nx\n",
    "import random\n",
    "import mutation\n",
    "import crossover\n",
    "import generator\n",
    "import fitness\n",
    "import plotting\n",
    "import mainloop\n",
    "#import pareto\n",
    "import csv\n",
    "from datetime import datetime\n",
    "import matplotlib.pyplot as plt\n",
    "plt.rcParams.update({'font.size': 12})"
   ]
  },
  {
   "cell_type": "markdown",
   "metadata": {},
   "source": [
    "## 1. Parameters setting"
   ]
  },
  {
   "cell_type": "code",
   "execution_count": 2,
   "metadata": {},
   "outputs": [],
   "source": [
    "# user given constants\n",
    "src=0\n",
    "dst=1\n",
    "bandwidth_threshold = 2\n",
    "# parameters\n",
    "generation = 1000\n",
    "max_depth = 5\n",
    "k_shortest = 5\n",
    "random_walk_mult = 2\n",
    "generator_n = 1000\n",
    "generator_p = 0.1"
   ]
  },
  {
   "cell_type": "code",
   "execution_count": 3,
   "metadata": {},
   "outputs": [],
   "source": [
    "random.seed(datetime.now())"
   ]
  },
  {
   "cell_type": "markdown",
   "metadata": {},
   "source": [
    "## 2. Read input"
   ]
  },
  {
   "cell_type": "code",
   "execution_count": 4,
   "metadata": {},
   "outputs": [
    {
     "name": "stdout",
     "output_type": "stream",
     "text": [
      "Using existing generated matrix\n"
     ]
    }
   ],
   "source": [
    "#Read file related to testing\n",
    "def get_test_file():\n",
    "    '''Generator that return string of file name'''\n",
    "    import re\n",
    "    for files in os.listdir():\n",
    "        if re.match('test.+\\.csv', files) is not None:\n",
    "            yield files\n",
    "            \n",
    "def csv_to_np(filename):\n",
    "    return pd.read_csv(filename, header=None, delim_whitespace=True).values\n",
    "\n",
    "# Use generator if file does not exist\n",
    "generated_filename = 'generated' + str(generator_n) + ' ' + str(generator_p) + '.csv'\n",
    "try:\n",
    "    bandwidth_matrix = csv_to_np(generated_filename)\n",
    "except:\n",
    "    print('Generating new bandwidth matrix!!!!!!!!!!!')\n",
    "    bandwidth_matrix = generator.generate(\"random\", (1, 100), n=generator_n, p=generator_p).out(type=\"2d_list\")\n",
    "    with open(generated_filename, 'w') as my_csv:\n",
    "        csvWriter = csv.writer(my_csv,delimiter=' ')\n",
    "        csvWriter.writerows(bandwidth_matrix)\n",
    "else:\n",
    "    print('Using existing generated matrix')\n",
    "\n",
    "#bandwidth_matrix = csv_to_np('test1.csv')\n",
    "#print(type(bandwidth_matrix), '\\n', bandwidth_matrix)"
   ]
  },
  {
   "cell_type": "code",
   "execution_count": 5,
   "metadata": {},
   "outputs": [],
   "source": [
    "def np_to_nx(bandwidth_matrix):\n",
    "    # build neighbor matrix\n",
    "    neighbor_matrix = []\n",
    "    for row, _ in enumerate(bandwidth_matrix):\n",
    "        neighbor_matrix.append(np.where(bandwidth_matrix[row] > 0)[0])\n",
    "    neighbor_matrix = np.array(neighbor_matrix)\n",
    "    \n",
    "    # build the list of edges\n",
    "    edges = np.array(np.where(bandwidth_matrix > 0)).transpose()\n",
    "\n",
    "    # build nx Graph instance\n",
    "    G = nx.Graph()\n",
    "    num_of_nodes = bandwidth_matrix.shape[0]\n",
    "    G.add_nodes_from(range(num_of_nodes))\n",
    "    G.add_edges_from(edges)\n",
    "    return G, neighbor_matrix\n",
    "    \n",
    "G, neighbor_matrix = np_to_nx(bandwidth_matrix)"
   ]
  },
  {
   "cell_type": "code",
   "execution_count": 6,
   "metadata": {},
   "outputs": [
    {
     "data": {
      "image/png": "[encoded data removed]",
      "text/plain": [
       "<Figure size 432x288 with 1 Axes>"
      ]
     },
     "metadata": {},
     "output_type": "display_data"
    }
   ],
   "source": [
    "def nx_visualize(G):\n",
    "    # Visualize the graph\n",
    "    %matplotlib inline\n",
    "    nx.draw_shell(G, with_labels=True, node_color='orange')\n",
    "\n",
    "nx_visualize(G)"
   ]
  },
  {
   "cell_type": "markdown",
   "metadata": {},
   "source": [
    "## 3. Initialization "
   ]
  },
  {
   "cell_type": "code",
   "execution_count": 7,
   "metadata": {},
   "outputs": [],
   "source": [
    "def random_walk(src, dest, min_step, neighbor_matrix):\n",
    "    path=[src]\n",
    "    #for i in range(step):\n",
    "    while(True):\n",
    "        next_node = random.choice(neighbor_matrix[path[-1]])\n",
    "        path.append(next_node)\n",
    "        \n",
    "        if len(path) > min_step and path[-1] == dest:\n",
    "            break\n",
    "    return crossover.check_cycle(path)"
   ]
  },
  {
   "cell_type": "code",
   "execution_count": 8,
   "metadata": {},
   "outputs": [],
   "source": [
    "def get_path_length(pop):\n",
    "    # count path length of each individual\n",
    "    path_length = []\n",
    "    for ind in pop:\n",
    "        path_length.append(len(ind))\n",
    "    return path_length"
   ]
  },
  {
   "cell_type": "code",
   "execution_count": 9,
   "metadata": {},
   "outputs": [],
   "source": [
    "def initial(G, s, d, iddfs_depth, population_size, neighbor_matrix):\n",
    "    population = []\n",
    "    for i in range(population_size):\n",
    "        new_ind = random_walk(s, d, random_walk_mult * G.order(), neighbor_matrix)\n",
    "        population.append(new_ind)\n",
    "    return population"
   ]
  },
  {
   "cell_type": "code",
   "execution_count": 10,
   "metadata": {},
   "outputs": [
    {
     "name": "stdout",
     "output_type": "stream",
     "text": [
      "99886.01400000001\n"
     ]
    }
   ],
   "source": [
    "# Edge density of graph\n",
    "# This is for calculating parameter (但現在還沒做)\n",
    "edge_density = G.size()*2/G.order()*(G.order()-1)\n",
    "print(edge_density)"
   ]
  },
  {
   "cell_type": "markdown",
   "metadata": {},
   "source": [
    "## Experiments"
   ]
  },
  {
   "cell_type": "code",
   "execution_count": 11,
   "metadata": {
    "scrolled": false
   },
   "outputs": [
    {
     "name": "stdout",
     "output_type": "stream",
     "text": [
      "--------------------------------------------------\n",
      "population_size:  10\n",
      "Path length for each initial individual: [36, 79, 19, 37, 20, 25, 48, 71, 42, 19]\n"
     ]
    },
    {
     "ename": "TypeError",
     "evalue": "object of type 'int' has no len()",
     "output_type": "error",
     "traceback": [
      "\u001b[0;31m---------------------------------------------------------------------------\u001b[0m",
      "\u001b[0;31mTypeError\u001b[0m                                 Traceback (most recent call last)",
      "\u001b[0;32m<ipython-input-11-afb726d10f46>\u001b[0m in \u001b[0;36m<module>\u001b[0;34m\u001b[0m\n\u001b[1;32m     16\u001b[0m \u001b[0;34m\u001b[0m\u001b[0m\n\u001b[1;32m     17\u001b[0m     \u001b[0;31m# mainloop\u001b[0m\u001b[0;34m\u001b[0m\u001b[0;34m\u001b[0m\u001b[0m\n\u001b[0;32m---> 18\u001b[0;31m     \u001b[0mpop\u001b[0m\u001b[0;34m,\u001b[0m \u001b[0mfit_v_gen\u001b[0m \u001b[0;34m=\u001b[0m \u001b[0mmainloop\u001b[0m\u001b[0;34m.\u001b[0m\u001b[0mmainloop\u001b[0m\u001b[0;34m(\u001b[0m\u001b[0mgeneration\u001b[0m\u001b[0;34m,\u001b[0m \u001b[0mpop\u001b[0m\u001b[0;34m,\u001b[0m \u001b[0mbandwidth_matrix\u001b[0m\u001b[0;34m,\u001b[0m \u001b[0mneighbor_matrix\u001b[0m\u001b[0;34m,\u001b[0m \u001b[0mk_shortest\u001b[0m\u001b[0;34m,\u001b[0m \u001b[0mpopulation_size\u001b[0m\u001b[0;34m)\u001b[0m\u001b[0;34m\u001b[0m\u001b[0m\n\u001b[0m\u001b[1;32m     19\u001b[0m     \u001b[0mfitness_for_plot\u001b[0m\u001b[0;34m.\u001b[0m\u001b[0mappend\u001b[0m\u001b[0;34m(\u001b[0m\u001b[0mfit_v_gen\u001b[0m\u001b[0;34m)\u001b[0m\u001b[0;34m\u001b[0m\u001b[0m\n\u001b[1;32m     20\u001b[0m \u001b[0;34m\u001b[0m\u001b[0m\n",
      "\u001b[0;32m~/2019S/test/evolutionary_computation/mainloop.py\u001b[0m in \u001b[0;36mmainloop\u001b[0;34m(generation, pop, bandwidth_matrix, neighbor_matrix, k_shortest, population_size)\u001b[0m\n\u001b[1;32m     40\u001b[0m \u001b[0;34m\u001b[0m\u001b[0m\n\u001b[1;32m     41\u001b[0m         \u001b[0;31m# fitness evaluation\u001b[0m\u001b[0;34m\u001b[0m\u001b[0;34m\u001b[0m\u001b[0m\n\u001b[0;32m---> 42\u001b[0;31m         \u001b[0mpop_with_fit\u001b[0m \u001b[0;34m=\u001b[0m \u001b[0mfitness\u001b[0m\u001b[0;34m.\u001b[0m\u001b[0mpopulation_with_fitness\u001b[0m\u001b[0;34m(\u001b[0m\u001b[0mpop\u001b[0m\u001b[0;34m,\u001b[0m \u001b[0mbandwidth_matrix\u001b[0m\u001b[0;34m)\u001b[0m\u001b[0;34m\u001b[0m\u001b[0m\n\u001b[0m\u001b[1;32m     43\u001b[0m \u001b[0;34m\u001b[0m\u001b[0m\n\u001b[1;32m     44\u001b[0m         \u001b[0;31m# selection\u001b[0m\u001b[0;34m\u001b[0m\u001b[0;34m\u001b[0m\u001b[0m\n",
      "\u001b[0;32m~/2019S/test/evolutionary_computation/fitness.py\u001b[0m in \u001b[0;36mpopulation_with_fitness\u001b[0;34m(population, connection_matrix)\u001b[0m\n\u001b[1;32m     20\u001b[0m     '''\n\u001b[1;32m     21\u001b[0m     return list({'individual':individual, 'fitness':fitness(individual, connection_matrix)}\n\u001b[0;32m---> 22\u001b[0;31m                 for individual in population)\n\u001b[0m\u001b[1;32m     23\u001b[0m \u001b[0;34m\u001b[0m\u001b[0m\n",
      "\u001b[0;32m~/2019S/test/evolutionary_computation/fitness.py\u001b[0m in \u001b[0;36m<genexpr>\u001b[0;34m(.0)\u001b[0m\n\u001b[1;32m     20\u001b[0m     '''\n\u001b[1;32m     21\u001b[0m     return list({'individual':individual, 'fitness':fitness(individual, connection_matrix)}\n\u001b[0;32m---> 22\u001b[0;31m                 for individual in population)\n\u001b[0m\u001b[1;32m     23\u001b[0m \u001b[0;34m\u001b[0m\u001b[0m\n",
      "\u001b[0;32m~/2019S/test/evolutionary_computation/fitness.py\u001b[0m in \u001b[0;36mfitness\u001b[0;34m(individual, connection_matrix)\u001b[0m\n\u001b[1;32m      6\u001b[0m         \u001b[0mconnection_matrix\u001b[0m \u001b[0;34m(\u001b[0m\u001b[0;36m2\u001b[0m\u001b[0md\u001b[0m \u001b[0mlist\u001b[0m\u001b[0;34m)\u001b[0m\u001b[0;34m:\u001b[0m \u001b[0mThe\u001b[0m \u001b[0mconnection\u001b[0m \u001b[0mmatrix\u001b[0m \u001b[0mthat\u001b[0m \u001b[0mrepresents\u001b[0m \u001b[0mthe\u001b[0m \u001b[0mnetwork\u001b[0m \u001b[0;34m(\u001b[0m\u001b[0msquare\u001b[0m \u001b[0mmatrix\u001b[0m\u001b[0;34m)\u001b[0m\u001b[0;34m\u001b[0m\u001b[0m\n\u001b[1;32m      7\u001b[0m     '''\n\u001b[0;32m----> 8\u001b[0;31m     \u001b[0;32mreturn\u001b[0m \u001b[0mmin\u001b[0m\u001b[0;34m(\u001b[0m\u001b[0mconnection_matrix\u001b[0m\u001b[0;34m[\u001b[0m\u001b[0mindividual\u001b[0m\u001b[0;34m[\u001b[0m\u001b[0mi\u001b[0m\u001b[0;34m]\u001b[0m\u001b[0;34m]\u001b[0m\u001b[0;34m[\u001b[0m\u001b[0mindividual\u001b[0m\u001b[0;34m[\u001b[0m\u001b[0mi\u001b[0m\u001b[0;34m+\u001b[0m\u001b[0;36m1\u001b[0m\u001b[0;34m]\u001b[0m\u001b[0;34m]\u001b[0m \u001b[0;32mfor\u001b[0m \u001b[0mi\u001b[0m \u001b[0;32min\u001b[0m \u001b[0mrange\u001b[0m\u001b[0;34m(\u001b[0m\u001b[0mlen\u001b[0m\u001b[0;34m(\u001b[0m\u001b[0mindividual\u001b[0m\u001b[0;34m)\u001b[0m\u001b[0;34m-\u001b[0m\u001b[0;36m1\u001b[0m\u001b[0;34m)\u001b[0m\u001b[0;34m)\u001b[0m\u001b[0;34m\u001b[0m\u001b[0m\n\u001b[0m\u001b[1;32m      9\u001b[0m \u001b[0;34m\u001b[0m\u001b[0m\n\u001b[1;32m     10\u001b[0m \u001b[0;32mdef\u001b[0m \u001b[0mpopulation_with_fitness\u001b[0m\u001b[0;34m(\u001b[0m\u001b[0mpopulation\u001b[0m\u001b[0;34m,\u001b[0m \u001b[0mconnection_matrix\u001b[0m\u001b[0;34m)\u001b[0m\u001b[0;34m:\u001b[0m\u001b[0;34m\u001b[0m\u001b[0m\n",
      "\u001b[0;31mTypeError\u001b[0m: object of type 'int' has no len()"
     ]
    }
   ],
   "source": [
    "#candidate = np.linspace(0.1,0.2, num=2)\n",
    "candidate = [10, 20, 50, 100, 150, 200]\n",
    "#candidate = [50]\n",
    "fitness_for_plot = []\n",
    "popsize_for_plot = []\n",
    "\n",
    "for c in candidate:\n",
    "    #population_size = min(200, max(int(ratio * edge_density), k_shortest))\n",
    "    population_size = min(200,  max(c, k_shortest))\n",
    "    popsize_for_plot.append(population_size)\n",
    "    # for example, given src=0, dst=3, max_depth=7, population_size=20\n",
    "    pop = initial(G, src, dst, max_depth, population_size, neighbor_matrix)\n",
    "    print('-'*50)\n",
    "    print('population_size: ', population_size)\n",
    "    print('Path length for each initial individual:', get_path_length(pop))\n",
    "    \n",
    "    # mainloop\n",
    "    pop, fit_v_gen = mainloop.mainloop(generation, pop, bandwidth_matrix, neighbor_matrix, k_shortest, population_size)\n",
    "    fitness_for_plot.append(fit_v_gen)\n",
    "    \n",
    "    # bandwidth(fitness) & path length(hops) evalutaion\n",
    "    pop_with_fit = fitness.population_with_fitness(pop, bandwidth_matrix)\n",
    "    rst = pd.DataFrame(sorted(pop_with_fit, key=lambda ind: ind['fitness'], reverse=True))\n",
    "    rst['hop'] = get_path_length(pop)\n",
    "    rst.head(k_shortest)\n",
    "    \n",
    "    print(\"=\"*30)\n",
    "    print(rst.head(k_shortest))\n",
    "    print(\"=\"*30)\n",
    "    \n",
    "    # plot pareto front\n",
    "    data = rst.drop(columns='individual').values\n",
    "    pareto_front = plotting.plot_pareto(data, savefig=True)\n",
    "    \n",
    "    # plot fitness vs. generation\n",
    "    plotting.plot_fitness_vs_generation(fit_v_gen, savefig=True)\n"
   ]
  },
  {
   "cell_type": "code",
   "execution_count": null,
   "metadata": {},
   "outputs": [],
   "source": [
    "fig = plt.figure(figsize=(8, 6))\n",
    "for idx, _ in enumerate(fitness_for_plot):\n",
    "    \n",
    "    plt.title(\"Average of top k fitness\", fontsize=20)\n",
    "    plt.xlabel('generation', fontsize=16)\n",
    "    plt.ylabel('$\\overline{fitness}$', fontsize=16, rotation=10)\n",
    "    ax = plt.gca()\n",
    "    ax.yaxis.set_label_coords(-0.07,1)\n",
    "    plt.plot(fitness_for_plot[idx])\n",
    "    plt.legend(title='pop_size',labels=popsize_for_plot,  loc='best')\n",
    "    \n",
    "plt.show()\n",
    "# savefig\n",
    "fig.savefig('./plots/experiments_'+datetime.now().strftime(\"%m%d_%H%M\")+'.png') "
   ]
  },
  {
   "cell_type": "code",
   "execution_count": null,
   "metadata": {},
   "outputs": [],
   "source": [
    "pd.DataFrame(fitness_for_plot)"
   ]
  },
  {
   "cell_type": "markdown",
   "metadata": {},
   "source": [
    "## Plot bandwidth distribution\n",
    "$F(1,1)$: F-distribution with df1 = df2 = 1"
   ]
  },
  {
   "cell_type": "code",
   "execution_count": null,
   "metadata": {
    "scrolled": true
   },
   "outputs": [],
   "source": [
    "import seaborn as sns\n",
    "\n",
    "fig = plt.figure(figsize=(6,4))\n",
    "y = np.random.f(1, 1, 100) * 1000 + 1 \n",
    "y = -np.sort(-y)\n",
    "x = np.linspace(0, max(y), 100)\n",
    "\n",
    "sns.distplot(y)\n",
    "plt.show()\n",
    "\n",
    "plt.plot(x,y)\n",
    "\n",
    "plt.show()"
   ]
  },
  {
   "cell_type": "markdown",
   "metadata": {},
   "source": [
    "## Exhausitve search (BFS)"
   ]
  },
  {
   "cell_type": "code",
   "execution_count": null,
   "metadata": {},
   "outputs": [],
   "source": [
    "\"\"\"\n",
    "all_path_generator = nx.all_simple_paths(G, src, dst)\n",
    "max_bandwidth_path = pd.DataFrame(pop_with_fit).tail(k_shortest).values\n",
    "current_max_bandwidth = min(max_bandwidth_path[:,0])\n",
    "\n",
    "for p in all_path_generator:\n",
    "    current_bandwidth = fitness.fitness(p, bandwidth_matrix) \n",
    "    if current_bandwidth > current_max_bandwidth:\n",
    "        # create new pair of bandwidth & path\n",
    "        temp = max_bandwidth_path[0].copy()\n",
    "        temp[0] = current_bandwidth\n",
    "        temp[1] = p\n",
    "        # append to table with size k_shortest \n",
    "        max_bandwidth_path = np.append(max_bandwidth_path, [temp] , axis=0)\n",
    "        if len(max_bandwidth_path) > k_shortest:\n",
    "            max_bandwidth_path.sort(axis=0)\n",
    "            max_bandwidth_path = max_bandwidth_path[0:-1]\n",
    "        current_max_bandwidth = min(max_bandwidth_path[:,0])\n",
    "        \n",
    "print(max_bandwidth_path)\n",
    "\"\"\""
   ]
  },
  {
   "cell_type": "code",
   "execution_count": null,
   "metadata": {},
   "outputs": [],
   "source": [
    "\"\"\"\n",
    "max_bandwidth_path = pd.DataFrame(max_bandwidth_path, columns=['fitness', 'individual'])\n",
    "# path length(hops) evaluation\n",
    "max_bandwidth_path['hop'] = get_path_length(max_bandwidth_path['individual'].values)\n",
    "max_bandwidth_path\n",
    "\"\"\""
   ]
  },
  {
   "cell_type": "code",
   "execution_count": null,
   "metadata": {},
   "outputs": [],
   "source": []
  },
  {
   "cell_type": "code",
   "execution_count": null,
   "metadata": {},
   "outputs": [],
   "source": []
  }
 ],
 "metadata": {
  "kernelspec": {
   "display_name": "Python 3",
   "language": "python",
   "name": "python3"
  },
  "language_info": {
   "codemirror_mode": {
    "name": "ipython",
    "version": 3
   },
   "file_extension": ".py",
   "mimetype": "text/x-python",
   "name": "python",
   "nbconvert_exporter": "python",
   "pygments_lexer": "ipython3",
   "version": "3.5.2"
  }
 },
 "nbformat": 4,
 "nbformat_minor": 2
}
