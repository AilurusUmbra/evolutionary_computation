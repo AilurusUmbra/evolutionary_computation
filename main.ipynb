{
 "cells": [
  {
   "cell_type": "code",
   "execution_count": 1,
   "metadata": {},
   "outputs": [],
   "source": [
    "import numpy as np\n",
    "import pandas as pd\n",
    "import os\n",
    "import networkx as nx\n",
    "import random\n",
    "import mutation\n",
    "import crossover\n",
    "import generator\n",
    "import fitness\n",
    "import csv\n",
    "from datetime import datetime"
   ]
  },
  {
   "cell_type": "code",
   "execution_count": 2,
   "metadata": {},
   "outputs": [],
   "source": [
    "# user given constants\n",
    "src=0\n",
    "dst=1\n",
    "bandwidth_threshold = 2\n",
    "# parameters\n",
    "generation = 1000\n",
    "max_depth = 5\n",
    "k_shortest = 5\n",
    "random_walk_mult = 2"
   ]
  },
  {
   "cell_type": "code",
   "execution_count": 3,
   "metadata": {},
   "outputs": [],
   "source": [
    "random.seed(datetime.now())"
   ]
  },
  {
   "cell_type": "code",
   "execution_count": 4,
   "metadata": {},
   "outputs": [
    {
     "name": "stdout",
     "output_type": "stream",
     "text": [
      "Using existing generated matrix\n"
     ]
    }
   ],
   "source": [
    "#Read file related to testing\n",
    "def get_test_file():\n",
    "    '''Generator that return string of file name'''\n",
    "    import re\n",
    "    for files in os.listdir():\n",
    "        if re.match('test.+\\.csv', files) is not None:\n",
    "            yield files\n",
    "            \n",
    "def csv_to_np(filename):\n",
    "    return pd.read_csv(filename, header=None, delim_whitespace=True).values\n",
    "\n",
    "# Use generator if file does not exist\n",
    "try:\n",
    "    print('Using existing generated matrix')\n",
    "    bandwidth_matrix = csv_to_np('generated.csv')\n",
    "except:\n",
    "    print('Generating new bandwidth matrix!!!!!!!!!!!')\n",
    "    bandwidth_matrix = generator.generate(\"random\", (1, 100), n=1000, p=0.1).out(type=\"2d_list\")\n",
    "    with open(\"generated.csv\",\"w\") as my_csv:\n",
    "        csvWriter = csv.writer(my_csv,delimiter=' ')\n",
    "        csvWriter.writerows(bandwidth_matrix)\n",
    "\n",
    "#bandwidth_matrix = csv_to_np('test1.csv')\n",
    "#print(type(bandwidth_matrix), '\\n', bandwidth_matrix)"
   ]
  },
  {
   "cell_type": "code",
   "execution_count": 5,
   "metadata": {},
   "outputs": [],
   "source": [
    "def np_to_nx(bandwidth_matrix):\n",
    "    # build neighbor matrix\n",
    "    neighbor_matrix = []\n",
    "    for row, _ in enumerate(bandwidth_matrix):\n",
    "        neighbor_matrix.append(np.where(bandwidth_matrix[row] > 0)[0])\n",
    "    neighbor_matrix = np.array(neighbor_matrix)\n",
    "    \n",
    "    # build the list of edges\n",
    "    edges = np.array(np.where(bandwidth_matrix > 0)).transpose()\n",
    "\n",
    "    # build nx Graph instance\n",
    "    G = nx.Graph()\n",
    "    num_of_nodes = bandwidth_matrix.shape[0]\n",
    "    G.add_nodes_from(range(num_of_nodes))\n",
    "    G.add_edges_from(edges)\n",
    "    return G, neighbor_matrix\n",
    "    \n",
    "G, neighbor_matrix = np_to_nx(bandwidth_matrix)"
   ]
  },
  {
   "cell_type": "code",
   "execution_count": 6,
   "metadata": {},
   "outputs": [
    {
     "name": "stderr",
     "output_type": "stream",
     "text": [
      "/home/phua/anaconda3/envs/evo/lib/python3.7/site-packages/networkx/drawing/nx_pylab.py:579: MatplotlibDeprecationWarning: \n",
      "The iterable function was deprecated in Matplotlib 3.1 and will be removed in 3.3. Use np.iterable instead.\n",
      "  if not cb.iterable(width):\n"
     ]
    },
    {
     "data": {
      "image/png": "[encoded data removed]",
      "text/plain": [
       "<Figure size 432x288 with 1 Axes>"
      ]
     },
     "metadata": {},
     "output_type": "display_data"
    }
   ],
   "source": [
    "def nx_visualize(G):\n",
    "    # Visualize the graph\n",
    "    %matplotlib inline\n",
    "    nx.draw_shell(G, with_labels=True, node_color='orange')\n",
    "\n",
    "nx_visualize(G)"
   ]
  },
  {
   "cell_type": "code",
   "execution_count": 7,
   "metadata": {},
   "outputs": [],
   "source": [
    "def random_walk(src, dest, min_step, neighbor_matrix):\n",
    "    path=[src]\n",
    "    #for i in range(step):\n",
    "    while(True):\n",
    "        next_node = random.choice(neighbor_matrix[path[-1]])\n",
    "        path.append(next_node)\n",
    "        \n",
    "        if len(path) > min_step and path[-1] == dest:\n",
    "            break\n",
    "    return crossover.check_cycle(path)"
   ]
  },
  {
   "cell_type": "code",
   "execution_count": 8,
   "metadata": {},
   "outputs": [],
   "source": [
    "def get_path_length(pop):\n",
    "    # count path length of each individual\n",
    "    path_length = []\n",
    "    for ind in pop:\n",
    "        path_length.append(len(ind))\n",
    "    return path_length"
   ]
  },
  {
   "cell_type": "code",
   "execution_count": 9,
   "metadata": {},
   "outputs": [],
   "source": [
    "def initial(G, s, d, iddfs_depth, population_size, neighbor_matrix):\n",
    "\n",
    "    \n",
    "    #Get the two initial parent\n",
    "    random_path1 = random_walk(s, d, random_walk_mult * G.order(), neighbor_matrix)\n",
    "    print('Random path 1 len: ', len(random_path1))\n",
    "    \n",
    "    random_path2 = random_path1.copy()\n",
    "    random_path2 = mutation.mutation(neighbor_matrix, random_path2, 0.5)\n",
    "    random_path2 = crossover.check_cycle(random_path2)\n",
    "    print('Random path 2 len: ', len(random_path2))\n",
    "        \n",
    "    population = [random_path1, random_path2]\n",
    "    while(True):\n",
    "        #for idx in range(len(population)-1):\n",
    "        #    child1, child2 = crossover.random_crossover(population[idx], population[idx+1], bandwidth_matrix)\n",
    "        #    population += [crossover.check_cycle(child1), crossover.check_cycle(child2)]\n",
    "    \n",
    "        children_pop = []\n",
    "        # mutation\n",
    "        for ind in population:\n",
    "            children_pop.append(crossover.check_cycle(mutation.mutation(neighbor_matrix, ind, 0.5)))\n",
    "            \n",
    "        population += children_pop\n",
    "        \n",
    "        if len(population) > population_size:\n",
    "            break\n",
    "    population = random.sample(population, population_size)\n",
    "    return population"
   ]
  },
  {
   "cell_type": "code",
   "execution_count": 10,
   "metadata": {},
   "outputs": [
    {
     "name": "stdout",
     "output_type": "stream",
     "text": [
      "100387.512\n"
     ]
    }
   ],
   "source": [
    "# Edge density of graph\n",
    "# This is for calculating parameter (但現在還沒做)\n",
    "edge_density = G.size()*2/G.order()*(G.order()-1)\n",
    "print(edge_density)"
   ]
  },
  {
   "cell_type": "code",
   "execution_count": 11,
   "metadata": {},
   "outputs": [
    {
     "name": "stdout",
     "output_type": "stream",
     "text": [
      "Path length for each initial individual: [50, 33, 71, 22, 14, 53, 36, 55, 24, 4, 71, 36, 86, 43, 24, 68, 66, 17, 36, 36, 87, 27, 8, 52, 32, 18, 61, 54, 77, 28, 50, 44, 63, 85, 67, 52, 21, 55, 65, 28, 58, 59, 90, 16, 66, 16, 36, 5, 65, 29, 42, 25, 29, 73, 58, 24, 5, 58, 27, 49, 41, 79, 50, 21, 37, 41, 56, 13, 55, 75, 37, 38, 16, 44, 25, 11, 50, 48, 27, 53, 44, 38, 13, 67, 12, 81, 46, 15, 30, 63, 22, 43, 43, 75, 21, 41, 49, 25, 17, 27, 31, 34, 27, 52, 48, 84, 40, 41, 40, 33, 77, 71, 27, 20, 55, 46, 35, 27, 47, 22, 33, 66, 39, 35, 15, 12, 43, 49, 5, 45, 57, 16, 75, 53, 32, 40, 42, 41, 63, 50, 20, 20, 16, 62, 72, 30, 37, 44, 69, 57, 13, 34, 55, 75, 34, 36, 58, 51, 51, 37, 29, 16, 40, 53, 22, 42, 33, 71, 44, 111, 40, 44, 36, 59, 69, 3, 21, 42, 19, 70, 68, 24, 53, 9, 27, 33, 92, 4, 69, 61, 70, 34, 72, 33, 18, 25, 39, 10, 52, 96]\n"
     ]
    }
   ],
   "source": [
    "candidate = np.linspace(0.1,0.2, num=2)\n",
    "candidate = [0.1]\n",
    "for ratio in candidate:\n",
    "    population_size = min(200, max(int(ratio * edge_density), k_shortest))\n",
    "    # for example, given src=0, dst=3, max_depth=7, population_size=20\n",
    "    pop = initial(G, src, dst, max_depth, population_size, neighbor_matrix)\n",
    "print('Path length for each initial individual:', get_path_length(pop))"
   ]
  },
  {
   "cell_type": "code",
   "execution_count": 12,
   "metadata": {},
   "outputs": [],
   "source": [
    "# main loop\n",
    "fit_v_gen = []\n",
    "for g in range(generation):\n",
    "    #display(pd.DataFrame(fitness.population_with_fitness(pop, bandwidth_matrix)))\n",
    "    \n",
    "    # crossover\n",
    "    temp_pop = []\n",
    "    for idx in range(len(pop)-1):\n",
    "        child1, child2 = crossover.random_crossover(pop[idx], pop[idx+1], bandwidth_matrix)\n",
    "        temp_pop += [crossover.check_cycle(child1), crossover.check_cycle(child2)]\n",
    "    \n",
    "    # mutation\n",
    "    children_pop = []\n",
    "    for ind in pop:\n",
    "        children_pop.append(crossover.check_cycle(mutation.mutation(neighbor_matrix, ind)))\n",
    "\n",
    "    # diversity maintenance\n",
    "    pop = np.unique(pop+temp_pop+children_pop).tolist()\n",
    "    \n",
    "    # fitness evaluation\n",
    "    pop_with_fit = fitness.population_with_fitness(pop, bandwidth_matrix)\n",
    "    \n",
    "    # selection\n",
    "    pop = pd.DataFrame(sorted(pop_with_fit, key=lambda ind: ind['fitness'], reverse=True))\n",
    "    fit_v_gen.append(np.mean(pop['fitness'][:k_shortest]))\n",
    "    #display(pop)\n",
    "    pop = pop['individual'][0:population_size].tolist()\n",
    "\n"
   ]
  },
  {
   "cell_type": "code",
   "execution_count": 13,
   "metadata": {},
   "outputs": [
    {
     "data": {
      "text/html": [
       "<div>\n",
       "<style scoped>\n",
       "    .dataframe tbody tr th:only-of-type {\n",
       "        vertical-align: middle;\n",
       "    }\n",
       "\n",
       "    .dataframe tbody tr th {\n",
       "        vertical-align: top;\n",
       "    }\n",
       "\n",
       "    .dataframe thead th {\n",
       "        text-align: right;\n",
       "    }\n",
       "</style>\n",
       "<table border=\"1\" class=\"dataframe\">\n",
       "  <thead>\n",
       "    <tr style=\"text-align: right;\">\n",
       "      <th></th>\n",
       "      <th>fitness</th>\n",
       "      <th>individual</th>\n",
       "      <th>hop</th>\n",
       "    </tr>\n",
       "  </thead>\n",
       "  <tbody>\n",
       "    <tr>\n",
       "      <th>0</th>\n",
       "      <td>55878</td>\n",
       "      <td>[0, 367, 359, 1]</td>\n",
       "      <td>4</td>\n",
       "    </tr>\n",
       "    <tr>\n",
       "      <th>1</th>\n",
       "      <td>47947</td>\n",
       "      <td>[0, 527, 825, 1]</td>\n",
       "      <td>4</td>\n",
       "    </tr>\n",
       "    <tr>\n",
       "      <th>2</th>\n",
       "      <td>36372</td>\n",
       "      <td>[0, 652, 169, 1]</td>\n",
       "      <td>4</td>\n",
       "    </tr>\n",
       "    <tr>\n",
       "      <th>3</th>\n",
       "      <td>33218</td>\n",
       "      <td>[0, 164, 670, 516, 1]</td>\n",
       "      <td>5</td>\n",
       "    </tr>\n",
       "    <tr>\n",
       "      <th>4</th>\n",
       "      <td>33218</td>\n",
       "      <td>[0, 164, 699, 982, 1]</td>\n",
       "      <td>5</td>\n",
       "    </tr>\n",
       "  </tbody>\n",
       "</table>\n",
       "</div>"
      ],
      "text/plain": [
       "   fitness             individual  hop\n",
       "0    55878       [0, 367, 359, 1]    4\n",
       "1    47947       [0, 527, 825, 1]    4\n",
       "2    36372       [0, 652, 169, 1]    4\n",
       "3    33218  [0, 164, 670, 516, 1]    5\n",
       "4    33218  [0, 164, 699, 982, 1]    5"
      ]
     },
     "execution_count": 13,
     "metadata": {},
     "output_type": "execute_result"
    }
   ],
   "source": [
    "pop_with_fit = fitness.population_with_fitness(pop, bandwidth_matrix)\n",
    "rst = pd.DataFrame(sorted(pop_with_fit, key=lambda ind: ind['fitness'], reverse=True))\n",
    "rst['hop'] = get_path_length(pop)\n",
    "rst.head(k_shortest)"
   ]
  },
  {
   "cell_type": "code",
   "execution_count": 14,
   "metadata": {},
   "outputs": [],
   "source": [
    "# Ref: https://pythonhealthcare.org/tag/pareto-front/\n",
    "def identify_pareto(scores):\n",
    "    \n",
    "    # flip num_of_hops to negative so that we can maxmize it\n",
    "    scores[:,1] = -scores[:,1]\n",
    "    \n",
    "    # Count number of items\n",
    "    population_size = scores.shape[0]\n",
    "    # Create a NumPy index for scores on the pareto front (zero indexed)\n",
    "    population_ids = np.arange(population_size)\n",
    "    # Create a starting list of items on the Pareto front\n",
    "    # All items start off as being labelled as on the Parteo front\n",
    "    pareto_front = np.ones(population_size, dtype=bool)\n",
    "    # Loop through each item. This will then be compared with all other items\n",
    "    for i in range(population_size):\n",
    "        # Loop through all other items\n",
    "        for j in range(population_size):\n",
    "            \n",
    "            # Check if our 'i' pint is dominated by out 'j' point\n",
    "            if all(scores[j] >= scores[i]) and any(scores[j] > scores[i]):\n",
    "                # j dominates i. Label 'i' point as not on Pareto front\n",
    "                pareto_front[i] = 0\n",
    "                # Stop further comparisons with 'i' (no more comparisons needed)\n",
    "                break\n",
    "   \n",
    "    # Add the right-most & down-most points\n",
    "    max_bandwidth = max(scores[:, 0])\n",
    "    min_length = max(scores[:, 1])\n",
    "\n",
    "    for i in range(population_size):\n",
    "        if scores[i][0] == max_bandwidth or scores[i][1] == min_length:\n",
    "            pareto_front[i] = 1\n",
    "    \n",
    "    \n",
    "    # flip back the negative sign of num_of_hops\n",
    "    scores[:,1] = -scores[:,1]\n",
    "    \n",
    "    # Return ids of scenarios on pareto front\n",
    "    return population_ids[pareto_front]\n"
   ]
  },
  {
   "cell_type": "code",
   "execution_count": 15,
   "metadata": {
    "scrolled": true
   },
   "outputs": [
    {
     "data": {
      "text/plain": [
       "array([[10142,     3],\n",
       "       [55878,     4]])"
      ]
     },
     "execution_count": 15,
     "metadata": {},
     "output_type": "execute_result"
    }
   ],
   "source": [
    "data = rst.drop(columns='individual').values\n",
    "front_idx = identify_pareto(data)\n",
    "pareto_front= data[front_idx]\n",
    "pareto_front.sort(axis=0)\n",
    "pareto_front"
   ]
  },
  {
   "cell_type": "code",
   "execution_count": 16,
   "metadata": {},
   "outputs": [
    {
     "data": {
      "text/plain": [
       "False"
      ]
     },
     "execution_count": 16,
     "metadata": {},
     "output_type": "execute_result"
    }
   ],
   "source": [
    "all(data[0] > data[1]) "
   ]
  },
  {
   "cell_type": "code",
   "execution_count": null,
   "metadata": {},
   "outputs": [],
   "source": []
  },
  {
   "cell_type": "code",
   "execution_count": 17,
   "metadata": {},
   "outputs": [
    {
     "data": {
      "image/png": "[encoded data removed]",
      "text/plain": [
       "<Figure size 432x288 with 1 Axes>"
      ]
     },
     "metadata": {
      "needs_background": "light"
     },
     "output_type": "display_data"
    }
   ],
   "source": [
    "import matplotlib.pyplot as plt\n",
    "plt.scatter(rst['fitness'], rst['hop'])\n",
    "plt.plot(pareto_front[:, 0], pareto_front[:, 1], color='r')\n",
    "plt.xlabel('bottleneck bandwidth')\n",
    "plt.ylabel('hop')\n",
    "plt.show()\n",
    "#plt."
   ]
  },
  {
   "cell_type": "code",
   "execution_count": 18,
   "metadata": {},
   "outputs": [
    {
     "data": {
      "text/html": [
       "<div>\n",
       "<style scoped>\n",
       "    .dataframe tbody tr th:only-of-type {\n",
       "        vertical-align: middle;\n",
       "    }\n",
       "\n",
       "    .dataframe tbody tr th {\n",
       "        vertical-align: top;\n",
       "    }\n",
       "\n",
       "    .dataframe thead th {\n",
       "        text-align: right;\n",
       "    }\n",
       "</style>\n",
       "<table border=\"1\" class=\"dataframe\">\n",
       "  <thead>\n",
       "    <tr style=\"text-align: right;\">\n",
       "      <th></th>\n",
       "      <th>fitness</th>\n",
       "      <th>individual</th>\n",
       "      <th>hop</th>\n",
       "    </tr>\n",
       "  </thead>\n",
       "  <tbody>\n",
       "    <tr>\n",
       "      <th>0</th>\n",
       "      <td>55878</td>\n",
       "      <td>[0, 367, 359, 1]</td>\n",
       "      <td>4</td>\n",
       "    </tr>\n",
       "    <tr>\n",
       "      <th>1</th>\n",
       "      <td>47947</td>\n",
       "      <td>[0, 527, 825, 1]</td>\n",
       "      <td>4</td>\n",
       "    </tr>\n",
       "    <tr>\n",
       "      <th>2</th>\n",
       "      <td>36372</td>\n",
       "      <td>[0, 652, 169, 1]</td>\n",
       "      <td>4</td>\n",
       "    </tr>\n",
       "    <tr>\n",
       "      <th>3</th>\n",
       "      <td>33218</td>\n",
       "      <td>[0, 164, 670, 516, 1]</td>\n",
       "      <td>5</td>\n",
       "    </tr>\n",
       "    <tr>\n",
       "      <th>4</th>\n",
       "      <td>33218</td>\n",
       "      <td>[0, 164, 699, 982, 1]</td>\n",
       "      <td>5</td>\n",
       "    </tr>\n",
       "    <tr>\n",
       "      <th>5</th>\n",
       "      <td>27509</td>\n",
       "      <td>[0, 610, 441, 825, 1]</td>\n",
       "      <td>5</td>\n",
       "    </tr>\n",
       "    <tr>\n",
       "      <th>6</th>\n",
       "      <td>24943</td>\n",
       "      <td>[0, 703, 684, 274, 1]</td>\n",
       "      <td>5</td>\n",
       "    </tr>\n",
       "    <tr>\n",
       "      <th>7</th>\n",
       "      <td>24858</td>\n",
       "      <td>[0, 652, 761, 516, 1]</td>\n",
       "      <td>5</td>\n",
       "    </tr>\n",
       "    <tr>\n",
       "      <th>8</th>\n",
       "      <td>23769</td>\n",
       "      <td>[0, 469, 761, 516, 1]</td>\n",
       "      <td>5</td>\n",
       "    </tr>\n",
       "    <tr>\n",
       "      <th>9</th>\n",
       "      <td>23601</td>\n",
       "      <td>[0, 547, 118, 359, 1]</td>\n",
       "      <td>5</td>\n",
       "    </tr>\n",
       "    <tr>\n",
       "      <th>10</th>\n",
       "      <td>23601</td>\n",
       "      <td>[0, 547, 118, 541, 1]</td>\n",
       "      <td>5</td>\n",
       "    </tr>\n",
       "    <tr>\n",
       "      <th>11</th>\n",
       "      <td>23601</td>\n",
       "      <td>[0, 547, 159, 359, 1]</td>\n",
       "      <td>5</td>\n",
       "    </tr>\n",
       "    <tr>\n",
       "      <th>12</th>\n",
       "      <td>23601</td>\n",
       "      <td>[0, 547, 890, 359, 1]</td>\n",
       "      <td>5</td>\n",
       "    </tr>\n",
       "    <tr>\n",
       "      <th>13</th>\n",
       "      <td>23178</td>\n",
       "      <td>[0, 68, 169, 1]</td>\n",
       "      <td>4</td>\n",
       "    </tr>\n",
       "    <tr>\n",
       "      <th>14</th>\n",
       "      <td>23178</td>\n",
       "      <td>[0, 68, 615, 516, 1]</td>\n",
       "      <td>5</td>\n",
       "    </tr>\n",
       "    <tr>\n",
       "      <th>15</th>\n",
       "      <td>22400</td>\n",
       "      <td>[0, 669, 699, 982, 1]</td>\n",
       "      <td>5</td>\n",
       "    </tr>\n",
       "    <tr>\n",
       "      <th>16</th>\n",
       "      <td>22013</td>\n",
       "      <td>[0, 125, 66, 274, 1]</td>\n",
       "      <td>5</td>\n",
       "    </tr>\n",
       "    <tr>\n",
       "      <th>17</th>\n",
       "      <td>21493</td>\n",
       "      <td>[0, 164, 890, 359, 1]</td>\n",
       "      <td>5</td>\n",
       "    </tr>\n",
       "    <tr>\n",
       "      <th>18</th>\n",
       "      <td>16432</td>\n",
       "      <td>[0, 810, 321, 274, 1]</td>\n",
       "      <td>5</td>\n",
       "    </tr>\n",
       "    <tr>\n",
       "      <th>19</th>\n",
       "      <td>15681</td>\n",
       "      <td>[0, 304, 473, 274, 1]</td>\n",
       "      <td>5</td>\n",
       "    </tr>\n",
       "    <tr>\n",
       "      <th>20</th>\n",
       "      <td>15681</td>\n",
       "      <td>[0, 304, 527, 825, 1]</td>\n",
       "      <td>5</td>\n",
       "    </tr>\n",
       "    <tr>\n",
       "      <th>21</th>\n",
       "      <td>15681</td>\n",
       "      <td>[0, 304, 800, 825, 1]</td>\n",
       "      <td>5</td>\n",
       "    </tr>\n",
       "    <tr>\n",
       "      <th>22</th>\n",
       "      <td>15306</td>\n",
       "      <td>[0, 367, 274, 1]</td>\n",
       "      <td>4</td>\n",
       "    </tr>\n",
       "    <tr>\n",
       "      <th>23</th>\n",
       "      <td>15092</td>\n",
       "      <td>[0, 94, 211, 825, 1]</td>\n",
       "      <td>5</td>\n",
       "    </tr>\n",
       "    <tr>\n",
       "      <th>24</th>\n",
       "      <td>15092</td>\n",
       "      <td>[0, 94, 541, 1]</td>\n",
       "      <td>4</td>\n",
       "    </tr>\n",
       "    <tr>\n",
       "      <th>25</th>\n",
       "      <td>15064</td>\n",
       "      <td>[0, 703, 412, 274, 1]</td>\n",
       "      <td>5</td>\n",
       "    </tr>\n",
       "    <tr>\n",
       "      <th>26</th>\n",
       "      <td>14768</td>\n",
       "      <td>[0, 633, 118, 101, 1]</td>\n",
       "      <td>5</td>\n",
       "    </tr>\n",
       "    <tr>\n",
       "      <th>27</th>\n",
       "      <td>14768</td>\n",
       "      <td>[0, 633, 118, 359, 1]</td>\n",
       "      <td>5</td>\n",
       "    </tr>\n",
       "    <tr>\n",
       "      <th>28</th>\n",
       "      <td>14768</td>\n",
       "      <td>[0, 633, 118, 541, 1]</td>\n",
       "      <td>5</td>\n",
       "    </tr>\n",
       "    <tr>\n",
       "      <th>29</th>\n",
       "      <td>14252</td>\n",
       "      <td>[0, 304, 261, 421, 1]</td>\n",
       "      <td>5</td>\n",
       "    </tr>\n",
       "    <tr>\n",
       "      <th>...</th>\n",
       "      <td>...</td>\n",
       "      <td>...</td>\n",
       "      <td>...</td>\n",
       "    </tr>\n",
       "    <tr>\n",
       "      <th>170</th>\n",
       "      <td>6644</td>\n",
       "      <td>[0, 427, 716, 891, 1]</td>\n",
       "      <td>5</td>\n",
       "    </tr>\n",
       "    <tr>\n",
       "      <th>171</th>\n",
       "      <td>6644</td>\n",
       "      <td>[0, 427, 870, 274, 1]</td>\n",
       "      <td>5</td>\n",
       "    </tr>\n",
       "    <tr>\n",
       "      <th>172</th>\n",
       "      <td>6484</td>\n",
       "      <td>[0, 469, 857, 982, 1]</td>\n",
       "      <td>5</td>\n",
       "    </tr>\n",
       "    <tr>\n",
       "      <th>173</th>\n",
       "      <td>6391</td>\n",
       "      <td>[0, 68, 680, 1]</td>\n",
       "      <td>4</td>\n",
       "    </tr>\n",
       "    <tr>\n",
       "      <th>174</th>\n",
       "      <td>6241</td>\n",
       "      <td>[0, 442, 63, 101, 1]</td>\n",
       "      <td>5</td>\n",
       "    </tr>\n",
       "    <tr>\n",
       "      <th>175</th>\n",
       "      <td>6241</td>\n",
       "      <td>[0, 442, 63, 982, 1]</td>\n",
       "      <td>5</td>\n",
       "    </tr>\n",
       "    <tr>\n",
       "      <th>176</th>\n",
       "      <td>6151</td>\n",
       "      <td>[0, 469, 402, 424, 1]</td>\n",
       "      <td>5</td>\n",
       "    </tr>\n",
       "    <tr>\n",
       "      <th>177</th>\n",
       "      <td>6051</td>\n",
       "      <td>[0, 672, 176, 566, 1]</td>\n",
       "      <td>5</td>\n",
       "    </tr>\n",
       "    <tr>\n",
       "      <th>178</th>\n",
       "      <td>6030</td>\n",
       "      <td>[0, 304, 25, 475, 290, 1]</td>\n",
       "      <td>6</td>\n",
       "    </tr>\n",
       "    <tr>\n",
       "      <th>179</th>\n",
       "      <td>6024</td>\n",
       "      <td>[0, 68, 211, 516, 1]</td>\n",
       "      <td>5</td>\n",
       "    </tr>\n",
       "    <tr>\n",
       "      <th>180</th>\n",
       "      <td>6024</td>\n",
       "      <td>[0, 68, 211, 825, 1]</td>\n",
       "      <td>5</td>\n",
       "    </tr>\n",
       "    <tr>\n",
       "      <th>181</th>\n",
       "      <td>6022</td>\n",
       "      <td>[0, 981, 118, 359, 1]</td>\n",
       "      <td>5</td>\n",
       "    </tr>\n",
       "    <tr>\n",
       "      <th>182</th>\n",
       "      <td>6022</td>\n",
       "      <td>[0, 981, 118, 541, 1]</td>\n",
       "      <td>5</td>\n",
       "    </tr>\n",
       "    <tr>\n",
       "      <th>183</th>\n",
       "      <td>5999</td>\n",
       "      <td>[0, 774, 756, 541, 1]</td>\n",
       "      <td>5</td>\n",
       "    </tr>\n",
       "    <tr>\n",
       "      <th>184</th>\n",
       "      <td>5999</td>\n",
       "      <td>[0, 774, 756, 566, 1]</td>\n",
       "      <td>5</td>\n",
       "    </tr>\n",
       "    <tr>\n",
       "      <th>185</th>\n",
       "      <td>5969</td>\n",
       "      <td>[0, 213, 695, 359, 1]</td>\n",
       "      <td>5</td>\n",
       "    </tr>\n",
       "    <tr>\n",
       "      <th>186</th>\n",
       "      <td>5922</td>\n",
       "      <td>[0, 502, 891, 1]</td>\n",
       "      <td>4</td>\n",
       "    </tr>\n",
       "    <tr>\n",
       "      <th>187</th>\n",
       "      <td>5808</td>\n",
       "      <td>[0, 94, 670, 516, 1]</td>\n",
       "      <td>5</td>\n",
       "    </tr>\n",
       "    <tr>\n",
       "      <th>188</th>\n",
       "      <td>5742</td>\n",
       "      <td>[0, 304, 157, 825, 1]</td>\n",
       "      <td>5</td>\n",
       "    </tr>\n",
       "    <tr>\n",
       "      <th>189</th>\n",
       "      <td>5736</td>\n",
       "      <td>[0, 652, 335, 96, 1]</td>\n",
       "      <td>5</td>\n",
       "    </tr>\n",
       "    <tr>\n",
       "      <th>190</th>\n",
       "      <td>5650</td>\n",
       "      <td>[0, 547, 118, 566, 1]</td>\n",
       "      <td>5</td>\n",
       "    </tr>\n",
       "    <tr>\n",
       "      <th>191</th>\n",
       "      <td>5650</td>\n",
       "      <td>[0, 633, 118, 566, 1]</td>\n",
       "      <td>5</td>\n",
       "    </tr>\n",
       "    <tr>\n",
       "      <th>192</th>\n",
       "      <td>5589</td>\n",
       "      <td>[0, 502, 457, 711, 1]</td>\n",
       "      <td>5</td>\n",
       "    </tr>\n",
       "    <tr>\n",
       "      <th>193</th>\n",
       "      <td>5438</td>\n",
       "      <td>[0, 671, 74, 359, 1]</td>\n",
       "      <td>5</td>\n",
       "    </tr>\n",
       "    <tr>\n",
       "      <th>194</th>\n",
       "      <td>5354</td>\n",
       "      <td>[0, 68, 372, 402, 424, 1]</td>\n",
       "      <td>6</td>\n",
       "    </tr>\n",
       "    <tr>\n",
       "      <th>195</th>\n",
       "      <td>5278</td>\n",
       "      <td>[0, 750, 86, 825, 1]</td>\n",
       "      <td>5</td>\n",
       "    </tr>\n",
       "    <tr>\n",
       "      <th>196</th>\n",
       "      <td>5278</td>\n",
       "      <td>[0, 750, 642, 825, 1]</td>\n",
       "      <td>5</td>\n",
       "    </tr>\n",
       "    <tr>\n",
       "      <th>197</th>\n",
       "      <td>5225</td>\n",
       "      <td>[0, 810, 551, 516, 1]</td>\n",
       "      <td>5</td>\n",
       "    </tr>\n",
       "    <tr>\n",
       "      <th>198</th>\n",
       "      <td>4325</td>\n",
       "      <td>[0, 633, 313, 359, 1]</td>\n",
       "      <td>5</td>\n",
       "    </tr>\n",
       "    <tr>\n",
       "      <th>199</th>\n",
       "      <td>4242</td>\n",
       "      <td>[0, 913, 283, 1]</td>\n",
       "      <td>4</td>\n",
       "    </tr>\n",
       "  </tbody>\n",
       "</table>\n",
       "<p>200 rows × 3 columns</p>\n",
       "</div>"
      ],
      "text/plain": [
       "     fitness                 individual  hop\n",
       "0      55878           [0, 367, 359, 1]    4\n",
       "1      47947           [0, 527, 825, 1]    4\n",
       "2      36372           [0, 652, 169, 1]    4\n",
       "3      33218      [0, 164, 670, 516, 1]    5\n",
       "4      33218      [0, 164, 699, 982, 1]    5\n",
       "5      27509      [0, 610, 441, 825, 1]    5\n",
       "6      24943      [0, 703, 684, 274, 1]    5\n",
       "7      24858      [0, 652, 761, 516, 1]    5\n",
       "8      23769      [0, 469, 761, 516, 1]    5\n",
       "9      23601      [0, 547, 118, 359, 1]    5\n",
       "10     23601      [0, 547, 118, 541, 1]    5\n",
       "11     23601      [0, 547, 159, 359, 1]    5\n",
       "12     23601      [0, 547, 890, 359, 1]    5\n",
       "13     23178            [0, 68, 169, 1]    4\n",
       "14     23178       [0, 68, 615, 516, 1]    5\n",
       "15     22400      [0, 669, 699, 982, 1]    5\n",
       "16     22013       [0, 125, 66, 274, 1]    5\n",
       "17     21493      [0, 164, 890, 359, 1]    5\n",
       "18     16432      [0, 810, 321, 274, 1]    5\n",
       "19     15681      [0, 304, 473, 274, 1]    5\n",
       "20     15681      [0, 304, 527, 825, 1]    5\n",
       "21     15681      [0, 304, 800, 825, 1]    5\n",
       "22     15306           [0, 367, 274, 1]    4\n",
       "23     15092       [0, 94, 211, 825, 1]    5\n",
       "24     15092            [0, 94, 541, 1]    4\n",
       "25     15064      [0, 703, 412, 274, 1]    5\n",
       "26     14768      [0, 633, 118, 101, 1]    5\n",
       "27     14768      [0, 633, 118, 359, 1]    5\n",
       "28     14768      [0, 633, 118, 541, 1]    5\n",
       "29     14252      [0, 304, 261, 421, 1]    5\n",
       "..       ...                        ...  ...\n",
       "170     6644      [0, 427, 716, 891, 1]    5\n",
       "171     6644      [0, 427, 870, 274, 1]    5\n",
       "172     6484      [0, 469, 857, 982, 1]    5\n",
       "173     6391            [0, 68, 680, 1]    4\n",
       "174     6241       [0, 442, 63, 101, 1]    5\n",
       "175     6241       [0, 442, 63, 982, 1]    5\n",
       "176     6151      [0, 469, 402, 424, 1]    5\n",
       "177     6051      [0, 672, 176, 566, 1]    5\n",
       "178     6030  [0, 304, 25, 475, 290, 1]    6\n",
       "179     6024       [0, 68, 211, 516, 1]    5\n",
       "180     6024       [0, 68, 211, 825, 1]    5\n",
       "181     6022      [0, 981, 118, 359, 1]    5\n",
       "182     6022      [0, 981, 118, 541, 1]    5\n",
       "183     5999      [0, 774, 756, 541, 1]    5\n",
       "184     5999      [0, 774, 756, 566, 1]    5\n",
       "185     5969      [0, 213, 695, 359, 1]    5\n",
       "186     5922           [0, 502, 891, 1]    4\n",
       "187     5808       [0, 94, 670, 516, 1]    5\n",
       "188     5742      [0, 304, 157, 825, 1]    5\n",
       "189     5736       [0, 652, 335, 96, 1]    5\n",
       "190     5650      [0, 547, 118, 566, 1]    5\n",
       "191     5650      [0, 633, 118, 566, 1]    5\n",
       "192     5589      [0, 502, 457, 711, 1]    5\n",
       "193     5438       [0, 671, 74, 359, 1]    5\n",
       "194     5354  [0, 68, 372, 402, 424, 1]    6\n",
       "195     5278       [0, 750, 86, 825, 1]    5\n",
       "196     5278      [0, 750, 642, 825, 1]    5\n",
       "197     5225      [0, 810, 551, 516, 1]    5\n",
       "198     4325      [0, 633, 313, 359, 1]    5\n",
       "199     4242           [0, 913, 283, 1]    4\n",
       "\n",
       "[200 rows x 3 columns]"
      ]
     },
     "execution_count": 18,
     "metadata": {},
     "output_type": "execute_result"
    }
   ],
   "source": [
    "rst"
   ]
  },
  {
   "cell_type": "code",
   "execution_count": 19,
   "metadata": {},
   "outputs": [
    {
     "data": {
      "text/plain": [
       "[<matplotlib.lines.Line2D at 0x7ff3ee632390>]"
      ]
     },
     "execution_count": 19,
     "metadata": {},
     "output_type": "execute_result"
    },
    {
     "data": {
      "image/png": "[encoded data removed]",
      "text/plain": [
       "<Figure size 432x288 with 1 Axes>"
      ]
     },
     "metadata": {
      "needs_background": "light"
     },
     "output_type": "display_data"
    }
   ],
   "source": [
    "plt.plot(fit_v_gen)"
   ]
  },
  {
   "cell_type": "code",
   "execution_count": 20,
   "metadata": {},
   "outputs": [
    {
     "data": {
      "text/plain": [
       "(array([ 80, 741]), array([741,  80]))"
      ]
     },
     "execution_count": 20,
     "metadata": {},
     "output_type": "execute_result"
    }
   ],
   "source": [
    "max_band = max(bandwidth_matrix.flatten())\n",
    "np.where(bandwidth_matrix==max_band)"
   ]
  },
  {
   "cell_type": "code",
   "execution_count": 26,
   "metadata": {},
   "outputs": [
    {
     "name": "stdout",
     "output_type": "stream",
     "text": [
      "92978\n",
      "55878\n",
      "1787154\n"
     ]
    }
   ],
   "source": [
    "print(bandwidth_matrix[0][367])\n",
    "print(bandwidth_matrix[367][359])\n",
    "print(bandwidth_matrix[359][1])"
   ]
  },
  {
   "cell_type": "code",
   "execution_count": 22,
   "metadata": {},
   "outputs": [
    {
     "data": {
      "text/plain": [
       "1000"
      ]
     },
     "execution_count": 22,
     "metadata": {},
     "output_type": "execute_result"
    }
   ],
   "source": [
    "G.order()"
   ]
  },
  {
   "cell_type": "code",
   "execution_count": null,
   "metadata": {},
   "outputs": [],
   "source": [
    "\n"
   ]
  }
 ],
 "metadata": {
  "kernelspec": {
   "display_name": "Python 3",
   "language": "python",
   "name": "python3"
  },
  "language_info": {
   "codemirror_mode": {
    "name": "ipython",
    "version": 3
   },
   "file_extension": ".py",
   "mimetype": "text/x-python",
   "name": "python",
   "nbconvert_exporter": "python",
   "pygments_lexer": "ipython3",
   "version": "3.7.3"
  }
 },
 "nbformat": 4,
 "nbformat_minor": 2
}
